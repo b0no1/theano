{
 "cells": [
  {
   "cell_type": "code",
   "execution_count": 2,
   "metadata": {
    "collapsed": false
   },
   "outputs": [],
   "source": [
    "'''\n",
    ">>> URL : http://deeplearning.net/software/theano/library/tensor/basic.html#libdoc-basic-tensor <<<\n",
    "'''\n",
    "import theano\n",
    "import theano.tensor as T\n",
    "import numpy as np"
   ]
  },
  {
   "cell_type": "code",
   "execution_count": 3,
   "metadata": {
    "collapsed": true
   },
   "outputs": [],
   "source": [
    "x = T.fmatrix() # x : TensorVariable instance\n",
    "## T.fmatrix : TensorType instance"
   ]
  },
  {
   "cell_type": "code",
   "execution_count": 1,
   "metadata": {
    "collapsed": false
   },
   "outputs": [
    {
     "data": {
      "text/plain": [
       "'\\n>> here : http://deeplearning.net/software/theano/tutorial/examples.html\\n'"
      ]
     },
     "execution_count": 1,
     "metadata": {},
     "output_type": "execute_result"
    }
   ],
   "source": [
    "'''\n",
    ">> here : http://deeplearning.net/software/theano/tutorial/examples.html\n",
    "'''"
   ]
  },
  {
   "cell_type": "code",
   "execution_count": 10,
   "metadata": {
    "collapsed": false
   },
   "outputs": [
    {
     "name": "stdout",
     "output_type": "stream",
     "text": [
      "0\n",
      "1\n",
      "4\n"
     ]
    }
   ],
   "source": [
    "# Shared variables\n",
    "shared_var = theano.shared(0)\n",
    "inc = T.iscalar('inc')\n",
    "accum = theano.function([inc],shared_var,updates={shared_var : shared_var + inc})\n",
    "print shared_var.get_value()\n",
    "accum(1)\n",
    "print shared_var.get_value()\n",
    "accum(3)\n",
    "print shared_var.get_value()"
   ]
  },
  {
   "cell_type": "code",
   "execution_count": 19,
   "metadata": {
    "collapsed": false
   },
   "outputs": [
    {
     "name": "stdout",
     "output_type": "stream",
     "text": [
      "shared var :  4\n",
      "300\n",
      "shared_var now :  4\n"
     ]
    }
   ],
   "source": [
    "# Use of Givens\n",
    "#  if you want to set a different value to the shared variable \n",
    "#   instead of the initial value FOR ONE PARTICULAR FUNCTION\n",
    "#    -> givens can be used to replace any symbolic variable (not just shared)\n",
    "print 'shared var : ',shared_var.get_value()\n",
    "foo = T.scalar(dtype=shared_var.dtype)\n",
    "y = shared_var*2 + inc\n",
    "accum1 = theano.function([inc,foo],y,givens={shared_var:foo})\n",
    "print accum1(100,100)\n",
    "print 'shared_var now : ', shared_var.get_value()"
   ]
  },
  {
   "cell_type": "code",
   "execution_count": 20,
   "metadata": {
    "collapsed": false
   },
   "outputs": [
    {
     "name": "stdout",
     "output_type": "stream",
     "text": [
      "f :  [[ 0.12672381  0.97091597]\n",
      " [ 0.13989098  0.88754825]]\n",
      "g :  [[ 0.37328447 -0.65746672]\n",
      " [-0.36302373 -0.97484625]]\n",
      "f :  [[ 0.31971415  0.47584377]\n",
      " [ 0.24129163  0.42046081]]\n",
      "g :  [[-1.83520891 -0.61010676]\n",
      " [ 0.25165068 -0.27547252]]\n",
      "f :  [[ 0.44078224  0.26993381]\n",
      " [ 0.14317277  0.43571539]]\n",
      "g :  [[-0.21820824 -0.41336089]\n",
      " [-1.73980833 -0.35313829]]\n",
      "f :  [[ 0.86342685  0.81031029]\n",
      " [ 0.86695784  0.6813093 ]]\n",
      "g :  [[ 1.15903744 -0.81196202]\n",
      " [ 0.14753671  0.14376777]]\n",
      "f :  [[ 0.70574274  0.80222456]\n",
      " [ 0.25976164  0.18285402]]\n",
      "g :  [[ 0.59124618  1.61254353]\n",
      " [ 1.12651285  1.10408857]]\n",
      "f :  [[ 0.28179047  0.23616647]\n",
      " [ 0.5958365   0.1385743 ]]\n",
      "g :  [[-1.27736081  1.1340512 ]\n",
      " [-1.24906806  0.82086106]]\n",
      "f :  [[ 0.4144294   0.72942789]\n",
      " [ 0.24875205  0.34337139]]\n",
      "g :  [[ 1.56756916  1.32344073]\n",
      " [-0.72403179 -0.60996152]]\n",
      "f :  [[ 0.01874372  0.75584415]\n",
      " [ 0.87381718  0.59499593]]\n",
      "g :  [[-0.6827459   0.60557953]\n",
      " [-0.3543045  -0.94722659]]\n",
      "f :  [[ 0.95148794  0.24396072]\n",
      " [ 0.960757    0.98541163]]\n",
      "g :  [[ 1.11010172  0.60370287]\n",
      " [ 0.71923106 -0.62834759]]\n",
      "f :  [[ 0.72719428  0.14106033]\n",
      " [ 0.46169003  0.70689932]]\n",
      "g :  [[ 0.94502837  1.74297808]\n",
      " [-0.36729946  0.92106433]]\n"
     ]
    }
   ],
   "source": [
    "# RandomStream\n",
    "from theano.tensor.shared_randomstreams import RandomStreams\n",
    "srng = RandomStreams(seed=234)\n",
    "ru = srng.uniform((2,2))\n",
    "rn = srng.normal((2,2))\n",
    "f = theano.function([],ru)\n",
    "g = theano.function([],rn)\n",
    "\n",
    "for i in xrange(10):\n",
    "    print 'f : ',f()\n",
    "    print 'g : ',g()"
   ]
  }
 ],
 "metadata": {
  "kernelspec": {
   "display_name": "Python 2",
   "language": "python",
   "name": "python2"
  },
  "language_info": {
   "codemirror_mode": {
    "name": "ipython",
    "version": 2
   },
   "file_extension": ".py",
   "mimetype": "text/x-python",
   "name": "python",
   "nbconvert_exporter": "python",
   "pygments_lexer": "ipython2",
   "version": "2.7.6"
  }
 },
 "nbformat": 4,
 "nbformat_minor": 0
}
