{
 "cells": [
  {
   "cell_type": "code",
   "execution_count": 11,
   "metadata": {
    "collapsed": true
   },
   "outputs": [],
   "source": [
    "## >> Tut : http://deeplearning.net/tutorial/logreg.html <<<\n",
    "\n",
    "import cPickle\n",
    "import gzip\n",
    "import os\n",
    "import sys\n",
    "import timeit\n",
    "\n",
    "import numpy as np\n",
    "\n",
    "import theano\n",
    "import theano.tensor as T\n",
    "from logistic import load_data"
   ]
  },
  {
   "cell_type": "code",
   "execution_count": 12,
   "metadata": {
    "collapsed": true
   },
   "outputs": [],
   "source": [
    "# Logistic Regression Class\n",
    "\n",
    "class LogisticReg(object):\n",
    "    def __init__(self, input, n_in, n_out):\n",
    "        self.w = theano.shared(\n",
    "            value=np.zeros(\n",
    "                (n_in, n_out),\n",
    "                dtype=theano.config.floatX\n",
    "            ),\n",
    "            name='w',\n",
    "            borrow=True\n",
    "        )\n",
    "         # initialize the biases b as a vector of n_out 0s\n",
    "        self.b = theano.shared(\n",
    "            value=np.zeros(\n",
    "                (n_out,),\n",
    "                dtype=theano.config.floatX\n",
    "            ),\n",
    "            name='b',\n",
    "            borrow=True\n",
    "        )\n",
    "        self.p_y_given_x = T.nnet.softmax(T.dot(input,self.w) + self.b)\n",
    "        self.y_pred = np.argmax(self.p_y_given_x,axis = 1)\n",
    "        self.params = [self.w, self.b]\n",
    "        self.input = input\n",
    "\n",
    "        \n",
    "    def neg_log_likelihood(self,y):\n",
    "        return -T.mean(T.log(self.p_y_given_x)[T.arange(y.shape[0]), y])\n",
    "    \n",
    "    def errors(self,y):\n",
    "        if y.ndim != self.y_pred.ndim:\n",
    "            raise TypeError(\n",
    "                'y should have the same shape as self.y_pred',\n",
    "                ('y', y.type, 'y_pred', self.y_pred.type)\n",
    "            )\n",
    "        if y.dtype.startswith('int'):\n",
    "            return T.mean(T.neq(self.y_pred, y))\n",
    "        else:\n",
    "            raise NotImplementedError()"
   ]
  },
  {
   "cell_type": "code",
   "execution_count": 13,
   "metadata": {
    "collapsed": false
   },
   "outputs": [],
   "source": [
    "## Instantiate the class\n",
    "\n",
    "x = T.matrix('x')\n",
    "y = T.ivector('y')\n",
    "\n",
    "index = T.lscalar('index')\n",
    "\n",
    "classifier = LogisticReg(input=x, n_in=28 * 28, n_out=10)\n",
    "\n",
    "cost = classifier.neg_log_likelihood(y)\n",
    "\n",
    "#classifier = Logistic(input=x,n_in=28*28,n_out=10)"
   ]
  },
  {
   "cell_type": "code",
   "execution_count": 16,
   "metadata": {
    "collapsed": false
   },
   "outputs": [],
   "source": [
    "#### Train symbolic function : Compile ####\n",
    "\n",
    "# gradients\n",
    "gw,gb = T.grad(cost,[classifier.w,classifier.b])\n",
    "\n",
    "# Update weight and bias\n",
    "updates=[(classifier.w, classifier.w - (0.13*gw) ),(classifier.b, classifier.b - (0.13*gb))]\n",
    "\n",
    "# train function\n",
    "train = theano.function(inputs=[index],\n",
    "                        outputs=[cost],\n",
    "                        updates = updates,\n",
    "                        givens={x : train_set_x[index*batch_size : (index+1)*batch_size],\n",
    "                                y : train_set_y[index*batch_size :(index+1)*batch_size]}                        \n",
    "                       )"
   ]
  },
  {
   "cell_type": "code",
   "execution_count": 14,
   "metadata": {
    "collapsed": false
   },
   "outputs": [
    {
     "name": "stdout",
     "output_type": "stream",
     "text": [
      "... loading data\n"
     ]
    }
   ],
   "source": [
    "## Load dataset ##\n",
    "datasets = load_data('mnist.pkl.gz')\n",
    "\n",
    "train_set_x, train_set_y = datasets[0]\n",
    "valid_set_x, valid_set_y = datasets[1]\n",
    "test_set_x, test_set_y = datasets[2]"
   ]
  },
  {
   "cell_type": "code",
   "execution_count": 15,
   "metadata": {
    "collapsed": false
   },
   "outputs": [
    {
     "name": "stdout",
     "output_type": "stream",
     "text": [
      "(50000, 784)\n",
      "(10000, 784)\n"
     ]
    }
   ],
   "source": [
    "print train_set_x.get_value().shape\n",
    "print test_set_x.get_value().shape\n",
    "\n",
    "# Set minibatch size\n",
    "batch_size = 600\n",
    "\n",
    "# compute number of minibatches for training, validation and testing\n",
    "n_train_batches = train_set_x.get_value(borrow=True).shape[0] / batch_size\n",
    "n_valid_batches = valid_set_x.get_value(borrow=True).shape[0] / batch_size\n",
    "n_test_batches = test_set_x.get_value(borrow=True).shape[0] / batch_size\n"
   ]
  },
  {
   "cell_type": "code",
   "execution_count": 17,
   "metadata": {
    "collapsed": false
   },
   "outputs": [
    {
     "name": "stdout",
     "output_type": "stream",
     "text": [
      "iteration  0  : cost :  [array(0.6845049826453509)]\n",
      "iteration  1  : cost :  [array(0.5626089911321697)]\n",
      "iteration  2  : cost :  [array(0.5108841152796244)]\n",
      "iteration  3  : cost :  [array(0.4803931242250776)]\n",
      "iteration  4  : cost :  [array(0.45959309350944494)]\n",
      "iteration  5  : cost :  [array(0.4441862477042445)]\n",
      "iteration  6  : cost :  [array(0.43215854023920286)]\n",
      "iteration  7  : cost :  [array(0.422421433666431)]\n",
      "iteration  8  : cost :  [array(0.41432618296120477)]\n",
      "iteration  9  : cost :  [array(0.40745764544886065)]\n",
      "iteration  10  : cost :  [array(0.4015354475896336)]\n",
      "iteration  11  : cost :  [array(0.3963620826117809)]\n",
      "iteration  12  : cost :  [array(0.3917936380380423)]\n",
      "iteration  13  : cost :  [array(0.387722312530715)]\n",
      "iteration  14  : cost :  [array(0.38406547190152707)]\n",
      "iteration  15  : cost :  [array(0.3807585253114044)]\n",
      "iteration  16  : cost :  [array(0.37775013265912305)]\n",
      "iteration  17  : cost :  [array(0.37499888825231265)]\n",
      "iteration  18  : cost :  [array(0.3724709696232807)]\n",
      "iteration  19  : cost :  [array(0.37013843498458543)]\n",
      "iteration  20  : cost :  [array(0.3679779672547599)]\n",
      "iteration  21  : cost :  [array(0.3659699321339113)]\n",
      "iteration  22  : cost :  [array(0.3640976612331989)]\n",
      "iteration  23  : cost :  [array(0.3623468992169452)]\n",
      "iteration  24  : cost :  [array(0.36070537229234845)]\n",
      "iteration  25  : cost :  [array(0.35916244771555705)]\n",
      "iteration  26  : cost :  [array(0.35770886241787525)]\n",
      "iteration  27  : cost :  [array(0.3563365047233617)]\n",
      "iteration  28  : cost :  [array(0.3550382372741014)]\n",
      "iteration  29  : cost :  [array(0.3538077522492053)]\n",
      "iteration  30  : cost :  [array(0.352639452119009)]\n",
      "iteration  31  : cost :  [array(0.35152835075899863)]\n",
      "iteration  32  : cost :  [array(0.35046999092351233)]\n",
      "iteration  33  : cost :  [array(0.34946037496105864)]\n",
      "iteration  34  : cost :  [array(0.34849590632085425)]\n",
      "iteration  35  : cost :  [array(0.34757333991031875)]\n",
      "iteration  36  : cost :  [array(0.34668973975622824)]\n",
      "iteration  37  : cost :  [array(0.34584244272727965)]\n",
      "iteration  38  : cost :  [array(0.3450290273143719)]\n",
      "iteration  39  : cost :  [array(0.3442472866527417)]\n",
      "iteration  40  : cost :  [array(0.34349520511897114)]\n",
      "iteration  41  : cost :  [array(0.3427709379546201)]\n",
      "iteration  42  : cost :  [array(0.34207279346348846)]\n",
      "iteration  43  : cost :  [array(0.3413992174063738)]\n",
      "iteration  44  : cost :  [array(0.34074877927952896)]\n",
      "iteration  45  : cost :  [array(0.3401201602138592)]\n",
      "iteration  46  : cost :  [array(0.33951214227355164)]\n",
      "iteration  47  : cost :  [array(0.33892359896712165)]\n",
      "iteration  48  : cost :  [array(0.3383534868122231)]\n",
      "iteration  49  : cost :  [array(0.3378008378191275)]\n",
      "iteration  50  : cost :  [array(0.33726475277742735)]\n",
      "iteration  51  : cost :  [array(0.336744395246974)]\n",
      "iteration  52  : cost :  [array(0.33623898616789605)]\n",
      "iteration  53  : cost :  [array(0.33574779901621504)]\n",
      "iteration  54  : cost :  [array(0.3352701554414619)]\n",
      "iteration  55  : cost :  [array(0.33480542133109203)]\n",
      "iteration  56  : cost :  [array(0.3343530032536594)]\n",
      "iteration  57  : cost :  [array(0.33391234523882535)]\n",
      "iteration  58  : cost :  [array(0.3334829258575351)]\n",
      "iteration  59  : cost :  [array(0.3330642555702016)]\n",
      "iteration  60  : cost :  [array(0.3326558743146364)]\n",
      "iteration  61  : cost :  [array(0.33225734930883405)]\n",
      "iteration  62  : cost :  [array(0.33186827304663596)]\n",
      "iteration  63  : cost :  [array(0.3314882614668343)]\n",
      "iteration  64  : cost :  [array(0.3311169522784961)]\n",
      "iteration  65  : cost :  [array(0.33075400342720634)]\n",
      "iteration  66  : cost :  [array(0.3303990916886305)]\n",
      "iteration  67  : cost :  [array(0.330051911377268)]\n",
      "iteration  68  : cost :  [array(0.32971217315957685)]\n",
      "iteration  69  : cost :  [array(0.329379602961793)]\n",
      "iteration  70  : cost :  [array(0.3290539409637795)]\n",
      "iteration  71  : cost :  [array(0.3287349406711332)]\n",
      "iteration  72  : cost :  [array(0.32842236805857083)]\n",
      "iteration  73  : cost :  [array(0.32811600077831293)]\n",
      "iteration  74  : cost :  [array(0.32781562742781134)]\n",
      "iteration  75  : cost :  [array(0.3275210468717189)]\n",
      "iteration  76  : cost :  [array(0.3272320676134921)]\n",
      "iteration  77  : cost :  [array(0.32694850721246177)]\n",
      "iteration  78  : cost :  [array(0.32667019174259865)]\n",
      "iteration  79  : cost :  [array(0.3263969552895517)]\n",
      "iteration  80  : cost :  [array(0.32612863948285803)]\n",
      "iteration  81  : cost :  [array(0.32586509306050004)]\n",
      "iteration  82  : cost :  [array(0.3256061714632466)]\n",
      "iteration  83  : cost :  [array(0.32535173645643983)]\n",
      "iteration  84  : cost :  [array(0.3251016557770982)]\n",
      "iteration  85  : cost :  [array(0.32485580280439)]\n",
      "iteration  86  : cost :  [array(0.3246140562517032)]\n",
      "iteration  87  : cost :  [array(0.3243762998786861)]\n",
      "iteration  88  : cost :  [array(0.3241424222217744)]\n",
      "iteration  89  : cost :  [array(0.32391231634183804)]\n",
      "iteration  90  : cost :  [array(0.32368587958770545)]\n",
      "iteration  91  : cost :  [array(0.3234630133744133)]\n",
      "iteration  92  : cost :  [array(0.32324362297513115)]\n",
      "iteration  93  : cost :  [array(0.3230276173257935)]\n",
      "iteration  94  : cost :  [array(0.32281490884154457)]\n",
      "iteration  95  : cost :  [array(0.3226054132441796)]\n",
      "iteration  96  : cost :  [array(0.32239904939982283)]\n",
      "iteration  97  : cost :  [array(0.3221957391661459)]\n",
      "iteration  98  : cost :  [array(0.32199540724848147)]\n",
      "iteration  99  : cost :  [array(0.321797981064237)]\n"
     ]
    }
   ],
   "source": [
    "minibatch_avg_cost = 0\n",
    "for j in xrange(100):\n",
    "    for i in xrange(n_train_batches):\n",
    "        minibatch_avg_cost = train(i)\n",
    "    print 'iteration ',j,' : cost : ',minibatch_avg_cost"
   ]
  },
  {
   "cell_type": "code",
   "execution_count": 18,
   "metadata": {
    "collapsed": true
   },
   "outputs": [],
   "source": [
    "test = theano.function(inputs=[index],outputs=classifier.errors(y),\n",
    "                      givens={x : test_set_x[index*batch_size : (index +1)*batch_size],\n",
    "                              y : test_set_y[index*batch_size : (index +1)*batch_size]})"
   ]
  },
  {
   "cell_type": "code",
   "execution_count": 19,
   "metadata": {
    "collapsed": false
   },
   "outputs": [
    {
     "name": "stdout",
     "output_type": "stream",
     "text": [
      "batch  0  : avg_error :  0.085\n",
      "batch  1  : avg_error :  0.105\n",
      "batch  2  : avg_error :  0.115\n",
      "batch  3  : avg_error :  0.105\n",
      "batch  4  : avg_error :  0.0933333333333\n",
      "batch  5  : avg_error :  0.0783333333333\n",
      "batch  6  : avg_error :  0.115\n",
      "batch  7  : avg_error :  0.095\n",
      "batch  8  : avg_error :  0.06\n",
      "batch  9  : avg_error :  0.0633333333333\n",
      "batch  10  : avg_error :  0.0666666666667\n",
      "batch  11  : avg_error :  0.04\n",
      "batch  12  : avg_error :  0.025\n",
      "batch  13  : avg_error :  0.0766666666667\n",
      "batch  14  : avg_error :  0.015\n",
      "batch  15  : avg_error :  0.0516666666667\n"
     ]
    }
   ],
   "source": [
    "for j in xrange(n_test_batches):\n",
    "    avg_test_error = test(j)\n",
    "    print 'batch ',j,' : avg_error : ',avg_test_error\n",
    "    "
   ]
  },
  {
   "cell_type": "code",
   "execution_count": 20,
   "metadata": {
    "collapsed": false
   },
   "outputs": [
    {
     "name": "stdout",
     "output_type": "stream",
     "text": [
      "batch  0  : avg_valid_error :  0.101666666667\n",
      "batch  1  : avg_valid_error :  0.07\n",
      "batch  2  : avg_valid_error :  0.07\n",
      "batch  3  : avg_valid_error :  0.0933333333333\n",
      "batch  4  : avg_valid_error :  0.113333333333\n",
      "batch  5  : avg_valid_error :  0.0733333333333\n",
      "batch  6  : avg_valid_error :  0.085\n",
      "batch  7  : avg_valid_error :  0.0566666666667\n",
      "batch  8  : avg_valid_error :  0.0883333333333\n",
      "batch  9  : avg_valid_error :  0.06\n",
      "batch  10  : avg_valid_error :  0.0716666666667\n",
      "batch  11  : avg_valid_error :  0.0583333333333\n",
      "batch  12  : avg_valid_error :  0.0866666666667\n",
      "batch  13  : avg_valid_error :  0.0466666666667\n",
      "batch  14  : avg_valid_error :  0.0466666666667\n",
      "batch  15  : avg_valid_error :  0.0583333333333\n"
     ]
    }
   ],
   "source": [
    "test = theano.function(inputs=[index],outputs=classifier.errors(y),\n",
    "                      givens={x : valid_set_x[index*batch_size : (index +1)*batch_size],\n",
    "                              y : valid_set_y[index*batch_size : (index +1)*batch_size]})\n",
    "\n",
    "for j in xrange(n_valid_batches):\n",
    "    avg_valid_error = test(j)\n",
    "    print 'batch ',j,' : avg_valid_error : ',avg_valid_error\n",
    "    "
   ]
  }
 ],
 "metadata": {
  "kernelspec": {
   "display_name": "Python 2",
   "language": "python",
   "name": "python2"
  },
  "language_info": {
   "codemirror_mode": {
    "name": "ipython",
    "version": 2
   },
   "file_extension": ".py",
   "mimetype": "text/x-python",
   "name": "python",
   "nbconvert_exporter": "python",
   "pygments_lexer": "ipython2",
   "version": "2.7.6"
  }
 },
 "nbformat": 4,
 "nbformat_minor": 0
}
