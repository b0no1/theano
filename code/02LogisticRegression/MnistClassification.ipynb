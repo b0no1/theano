{
 "cells": [
  {
   "cell_type": "code",
   "execution_count": 12,
   "metadata": {
    "collapsed": false
   },
   "outputs": [],
   "source": [
    "## >> Tut : http://deeplearning.net/tutorial/logreg.html <<<\n",
    "\n",
    "import cPickle\n",
    "import gzip\n",
    "import os\n",
    "import sys\n",
    "import timeit\n",
    "\n",
    "import numpy as np\n",
    "\n",
    "import theano\n",
    "import theano.tensor as T\n",
<<<<<<< HEAD
    "from logistic import load_data\n"
   ]
  },
  {
   "cell_type": "code",
   "execution_count": 15,
   "metadata": {
    "collapsed": true
   },
   "outputs": [],
   "source": [
    "# Logistic Regression Class\n",
    "\n",
    "class LogisticReg(object):\n",
    "    def __init__(self, input, n_in, n_out):\n",
    "        self.w = theano.shared(\n",
    "            value=np.zeros(\n",
    "                (n_in, n_out),\n",
    "                dtype=theano.config.floatX\n",
    "            ),\n",
    "            name='w',\n",
    "            borrow=True\n",
    "        )\n",
    "         # initialize the biases b as a vector of n_out 0s\n",
    "        self.b = theano.shared(\n",
    "            value=np.zeros(\n",
    "                (n_out,),\n",
    "                dtype=theano.config.floatX\n",
    "            ),\n",
    "            name='b',\n",
    "            borrow=True\n",
    "        )\n",
    "        self.p_y_given_x = T.nnet.softmax(T.dot(input,self.w) + self.b)\n",
    "        self.y_pred = np.argmax(self.p_y_given_x,axis = 1)\n",
    "        self.params = [self.w, self.b]\n",
    "        self.input = input\n",
    "\n",
    "        \n",
    "    def neg_log_likelihood(self,y):\n",
    "        return -T.mean(T.log(self.p_y_given_x)[T.arange(y.shape[0]), y])\n",
    "    \n",
    "    def errors(self,y):\n",
    "        if y.ndim != self.y_pred.ndim:\n",
    "            raise TypeError(\n",
    "                'y should have the same shape as self.y_pred',\n",
    "                ('y', y.type, 'y_pred', self.y_pred.type)\n",
    "            )\n",
    "        if y.dtype.startswith('int'):\n",
    "            return T.mean(T.neq(self.y_pred, y))\n",
    "        else:\n",
    "            raise NotImplementedError()"
   ]
  },
  {
   "cell_type": "code",
   "execution_count": 30,
   "metadata": {
    "collapsed": false
   },
   "outputs": [],
   "source": [
    "## Instantiate the class\n",
    "\n",
    "x = T.matrix('x')\n",
    "y = T.ivector('y')\n",
    "\n",
    "index = T.lscalar('index')\n",
    "\n",
    "classifier = LogisticReg(input=x, n_in=30 * 30, n_out=156)\n",
    "\n",
    "cost = classifier.neg_log_likelihood(y)\n",
    "\n",
    "#classifier = Logistic(input=x,n_in=28*28,n_out=10)"
   ]
  },
  {
   "cell_type": "code",
   "execution_count": 40,
   "metadata": {
    "collapsed": false
   },
   "outputs": [],
   "source": [
    "#### Train symbolic function : Compile ####\n",
    "\n",
    "# gradients\n",
    "gw,gb = T.grad(cost,[classifier.w,classifier.b])\n",
    "\n",
    "# Update weight and bias\n",
    "updates=[(classifier.w, classifier.w - (0.013*gw) ),(classifier.b, classifier.b - (0.013*gb))]\n",
    "\n",
    "# train function\n",
    "train = theano.function(inputs=[index],\n",
    "                        outputs=[cost],\n",
    "                        updates = updates,\n",
    "                        givens={x : train_set_x[index*batch_size : (index+1)*batch_size],\n",
    "                                y : train_set_y[index*batch_size :(index+1)*batch_size]}                        \n",
    "                       )"
   ]
  },
  {
   "cell_type": "code",
   "execution_count": 27,
   "metadata": {
    "collapsed": false
   },
   "outputs": [
    {
     "name": "stdout",
     "output_type": "stream",
     "text": [
      "... loading data\n"
     ]
    }
   ],
   "source": [
    "## Load dataset ##\n",
    "datasets = load_data('TamilCh.pkl.gz')\n",
    "\n",
    "train_set_x, train_set_y = datasets[0]\n",
    "valid_set_x, valid_set_y = datasets[1]\n",
    "test_set_x, test_set_y = datasets[2]"
   ]
  },
  {
   "cell_type": "code",
   "execution_count": 52,
   "metadata": {
    "collapsed": false
   },
   "outputs": [
    {
     "name": "stdout",
     "output_type": "stream",
     "text": [
      "(50000, 900)\n",
      "(17553, 900)\n"
     ]
    }
   ],
   "source": [
    "print train_set_x.get_value().shape\n",
    "print test_set_x.get_value().shape\n",
    "\n",
    "# Set minibatch size\n",
    "batch_size = 600\n",
    "\n",
    "# compute number of minibatches for training, validation and testing\n",
    "n_train_batches = train_set_x.get_value(borrow=True).shape[0] / batch_size\n",
    "n_valid_batches = valid_set_x.get_value(borrow=True).shape[0] / batch_size\n",
    "n_test_batches = test_set_x.get_value(borrow=True).shape[0] / batch_size\n"
   ]
  },
  {
   "cell_type": "code",
   "execution_count": 53,
   "metadata": {
    "collapsed": false
   },
   "outputs": [
    {
     "name": "stdout",
     "output_type": "stream",
     "text": [
      "iteration  276  : cost :  1.55114580637\n",
           ]
    }
   ],
   "source": [
    "\n",
    "for j in xrange(1000):\n",
    "    minibatch_avg_cost = 0\n",
    "    for i in xrange(n_train_batches):\n",
    "        minibatch_avg_cost = train(i)[0]\n",
    "    print 'iteration ',j,' : cost : ', (minibatch_avg_cost/n_train_batches)\n",
    "    "
   ]
  },
  {
   "cell_type": "code",
   "execution_count": 54,
   "metadata": {
    "collapsed": true
   },
   "outputs": [],
   "source": [
    "test = theano.function(inputs=[index],outputs=classifier.errors(y),\n",
    "                      givens={x : test_set_x[index*batch_size : (index +1)*batch_size],\n",
    "                              y : test_set_y[index*batch_size : (index +1)*batch_size]})"
   ]
  },
  {
   "cell_type": "code",
   "execution_count": 55,
   "metadata": {
    "collapsed": false
   },
   "outputs": [
    {
     "name": "stdout",
     "output_type": "stream",
     "text": [
      "batch  15  : avg_error :  0.0516666666667\n"
     ]
    }
   ],
   "source": [
    "for j in xrange(n_test_batches):\n",
    "    avg_test_error = test(j)\n",
    "    print 'batch ',j,' : avg_error : ',avg_test_error\n",
    "    "
   ]
  },
  {
   "cell_type": "code",
   "execution_count": 20,
   "metadata": {
    "collapsed": false
   },
   "outputs": [
    {
     "name": "stdout",
     "output_type": "stream",
     "text": [
      "batch  0  : avg_valid_error :  0.101666666667\n",
      "batch  1  : avg_valid_error :  0.07\n",
      "batch  2  : avg_valid_error :  0.07\n",
      "batch  3  : avg_valid_error :  0.0933333333333\n",
      "batch  4  : avg_valid_error :  0.113333333333\n",
      "batch  5  : avg_valid_error :  0.0733333333333\n",
      "batch  6  : avg_valid_error :  0.085\n",
      "batch  7  : avg_valid_error :  0.0566666666667\n",
      "batch  8  : avg_valid_error :  0.0883333333333\n",
      "batch  9  : avg_valid_error :  0.06\n",
      "batch  10  : avg_valid_error :  0.0716666666667\n",
      "batch  11  : avg_valid_error :  0.0583333333333\n",
      "batch  12  : avg_valid_error :  0.0866666666667\n",
      "batch  13  : avg_valid_error :  0.0466666666667\n",
      "batch  14  : avg_valid_error :  0.0466666666667\n",
      "batch  15  : avg_valid_error :  0.0583333333333\n"
     ]
    }
   ],
   "source": [
    "test = theano.function(inputs=[index],outputs=classifier.errors(y),\n",
    "                      givens={x : valid_set_x[index*batch_size : (index +1)*batch_size],\n",
    "                              y : valid_set_y[index*batch_size : (index +1)*batch_size]})\n",
    "\n",
    "for j in xrange(n_valid_batches):\n",
    "    avg_valid_error = test(j)\n",
    "    print 'batch ',j,' : avg_valid_error : ',avg_valid_error\n",
    "    "
   ]
  }
 ],
 "metadata": {
  "kernelspec": {
   "display_name": "Python 2",
   "language": "python",
   "name": "python2"
  },
  "language_info": {
   "codemirror_mode": {
    "name": "ipython",
    "version": 2
   },
   "file_extension": ".py",
   "mimetype": "text/x-python",
   "name": "python",
   "nbconvert_exporter": "python",
   "pygments_lexer": "ipython2",
   "version": "2.7.6"
  }
 },
 "nbformat": 4,
 "nbformat_minor": 0
}
