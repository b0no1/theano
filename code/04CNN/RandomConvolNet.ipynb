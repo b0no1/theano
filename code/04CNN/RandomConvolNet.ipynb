{
 "cells": [
  {
   "cell_type": "code",
   "execution_count": 1,
   "metadata": {
    "collapsed": false
   },
   "outputs": [
    {
     "name": "stderr",
     "output_type": "stream",
     "text": [
      "Using gpu device 0: GeForce GTX 960\n"
     ]
    }
   ],
   "source": [
    "import theano\n",
    "import theano.tensor as T\n",
    "import theano.tensor.nnet as conv\n",
    "import numpy as np"
   ]
  },
  {
   "cell_type": "code",
   "execution_count": 2,
   "metadata": {
    "collapsed": false
   },
   "outputs": [],
   "source": [
    "## A randomly initialized convolutional layer with 2 feature maps\n",
    "# Input : (RGB) 3x639x516\n",
    "# Receptive Field size : 9x9\n",
    "\n",
    "# Random element\n",
    "rng = np.random.RandomState(23455)\n",
    "\n",
    "# Input \n",
    "input = T.tensor4('input')\n",
    "\n",
    "# weight shape, w [depth_of_layer_m,depth_of_layer_m-1,filter_height,filter_width]\n",
    "wshape = (2,3,9,9)\n",
    "\n",
    "# bound on w values\n",
    "wbound = np.sqrt(3 * 9 * 9)\n",
    "\n",
    "# weight initialize with random numbers\n",
    "wval = np.asarray(rng.uniform(low=-1/wbound,high=1/wbound,size=wshape),dtype=input.dtype)\n",
    "\n",
    "# build shared variable w\n",
    "w = theano.shared(wval,name='w')"
   ]
  },
  {
   "cell_type": "code",
   "execution_count": 3,
   "metadata": {
    "collapsed": true
   },
   "outputs": [],
   "source": [
    "# setup bias\n",
    "b = theano.shared(np.asarray(rng.uniform(-0.5,0.5,(2,)),dtype=input.dtype),name='b')"
   ]
  },
  {
   "cell_type": "code",
   "execution_count": 4,
   "metadata": {
    "collapsed": true
   },
   "outputs": [],
   "source": [
    "# build symbolic expression for convolution layer\n",
    "conv_out = conv.conv2d(input,w)"
   ]
  },
  {
   "cell_type": "code",
   "execution_count": 5,
   "metadata": {
    "collapsed": false
   },
   "outputs": [],
   "source": [
    "# associate the bias term with the output of conv_layer\n",
    "output = T.nnet.sigmoid(conv_out + b.dimshuffle('x', 0, 'x', 'x'))"
   ]
  },
  {
   "cell_type": "code",
   "execution_count": 6,
   "metadata": {
    "collapsed": false
   },
   "outputs": [],
   "source": [
    "# compile function\n",
    "convf = theano.function([input],output)"
   ]
  },
  {
   "cell_type": "code",
   "execution_count": 7,
   "metadata": {
    "collapsed": false
   },
   "outputs": [
    {
     "name": "stdout",
     "output_type": "stream",
     "text": [
      "(639, 516, 3)  reshaped to  (1, 3, 639, 516)\n"
     ]
    }
   ],
   "source": [
    "# import an inmage and pass it to the random convnet\n",
    "import pylab\n",
    "from PIL import Image\n",
    "\n",
    "img = Image.open(open('../../data/3wolfmoon.jpg'))\n",
    "\n",
    "# convert to numpy array and normalize (%256)\n",
    "img = np.asarray(img, dtype=theano.config.floatX)/256.\n",
    "\n",
    "# reshape the image from 639x516x3 to 3,639,516 to 1,3,639,516\n",
    "#  Format : [ batch_size, depth, height, width]\n",
    "img_ = img.transpose(2,0,1).reshape(1,3,639,516)\n",
    "print img.shape,' reshaped to ', img_.shape\n",
    "\n",
    "# apply convol function\n",
    "omg = convf(img_)\n",
    "\n",
    "omg_gray1 = omg[0,0,:,:]\n",
    "omg_gray2 = omg[0,1,:,:]\n",
    "\n",
    "pylab.gray()\n",
    "pylab.subplot(1, 2, 1); pylab.imshow(omg_gray1)\n",
    "pylab.subplot(1, 2, 2); pylab.imshow(omg_gray2)\n",
    "\n",
    "pylab.show()\n"
   ]
  }
 ],
 "metadata": {
  "kernelspec": {
   "display_name": "Python 2",
   "language": "python",
   "name": "python2"
  },
  "language_info": {
   "codemirror_mode": {
    "name": "ipython",
    "version": 2
   },
   "file_extension": ".py",
   "mimetype": "text/x-python",
   "name": "python",
   "nbconvert_exporter": "python",
   "pygments_lexer": "ipython2",
   "version": "2.7.6"
  }
 },
 "nbformat": 4,
 "nbformat_minor": 0
}
