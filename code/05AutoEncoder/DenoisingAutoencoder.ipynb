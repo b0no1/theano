{
 "cells": [
  {
   "cell_type": "code",
   "execution_count": 10,
   "metadata": {
    "collapsed": false
   },
   "outputs": [],
   "source": [
    "## Autoencoder : http://deeplearning.net/tutorial/dA.html ##\n",
    "import numpy as np\n",
    "import theano\n",
    "import theano.tensor as T\n",
    "\n",
    "from logistic import load_data"
   ]
  },
  {
   "cell_type": "code",
   "execution_count": 11,
   "metadata": {
    "collapsed": true
   },
   "outputs": [],
   "source": [
    "class DenoisingAutoencoder(object):\n",
    "    def __init__(self,input,rng,num_v,num_h):\n",
    "        self.num_h = num_h\n",
    "        self.num_v = num_v\n",
    "        # init weight\n",
    "        wval = np.asarray(rng.uniform(low=-4 * np.sqrt(6. / (num_h + num_v)),\n",
    "                                      high=4 * np.sqrt(6. / (num_h + num_v)),\n",
    "                                      size=(num_v,num_h)),dtype=theano.config.floatX)\n",
    "        self.w = theano.shared(value=wval,name='w',borrow = True)\n",
    "        # init visible layer bias\n",
    "        self.bv = theano.shared(value = np.zeros(num_v,dtype=theano.config.floatX),name='bv',borrow=True)\n",
    "        # init hidden layer bias\n",
    "        self.bh = theano.shared(value = np.zeros(num_h,dtype=theano.config.floatX),name='bh',borrow=True)\n",
    "        # setup weight hidden-output layer connections\n",
    "        #  -> tied weights\n",
    "        self.w_ = self.w.T\n",
    "        self.x = input\n",
    "        self.params = [self.w,self.bv,self.bh]\n",
    "        \n",
    "    def encode(self,x_):\n",
    "        return T.nnet.sigmoid(T.dot(x_,self.w) + self.bh) ### Notice the use of bh here ###\n",
    "    \n",
    "    def decode(self,code):\n",
    "        return T.nnet.sigmoid(T.dot(code,self.w_) + self.bv) ### Notice the use of bv here ###\n",
    "    \n",
    "    def loss(self,y,z):\n",
    "        return - T.sum(self.x * T.log(z) + (1 - self.x) * T.log(1 - z), axis=1)\n",
    "\n",
    "    def cost(self,y,z):\n",
    "        return T.mean(self.loss(y,z))\n",
    "            "
   ]
  },
  {
   "cell_type": "code",
   "execution_count": 12,
   "metadata": {
    "collapsed": false
   },
   "outputs": [],
   "source": [
    "from theano.tensor.shared_randomstreams import RandomStreams\n",
    "\n",
    "# get corrupted input\n",
    "rng = np.random.RandomState(123)\n",
    "theano_rng = RandomStreams(rng.randint(2 ** 30))\n",
    "\n",
    "def corrupt_x(x,theano_rng,corruption_level):\n",
    "    return theano_rng.binomial(size=x.shape, n=1,\n",
    "                                        p=1 - corruption_level,\n",
    "                                        dtype=theano.config.floatX) * x\n"
   ]
  },
  {
   "cell_type": "code",
   "execution_count": 20,
   "metadata": {
    "collapsed": false
   },
   "outputs": [],
   "source": [
    "x = T.matrix('x')\n",
    "\n",
    "da = DenoisingAutoencoder(rng=rng,input=x,num_v=28*28,num_h=500)\n",
    "\n",
    "# corrupt x\n",
    "x_ = corrupt_x(da.x,theano_rng,0.)"
   ]
  },
  {
   "cell_type": "code",
   "execution_count": 21,
   "metadata": {
    "collapsed": false
   },
   "outputs": [],
   "source": [
    "# symbolic expressions for y and z\n",
    "y = da.encode(x_)\n",
    "z = da.decode(y)"
   ]
  },
  {
   "cell_type": "code",
   "execution_count": 22,
   "metadata": {
    "collapsed": false
   },
   "outputs": [],
   "source": [
    "# setup cost, gradients and updates\n",
    "cost = da.cost(y,z)\n",
    "\n",
    "# gradients\n",
    "gparams = T.grad(cost,da.params)\n",
    "\n",
    "# learning rate\n",
    "learning_rate = 0.1\n",
    "\n",
    "# updates\n",
    "updates = [ (param, param - (learning_rate*gparam) )\n",
    "              for param,gparam in zip(da.params,gparams)]"
   ]
  },
  {
   "cell_type": "code",
   "execution_count": 7,
   "metadata": {
    "collapsed": false
   },
   "outputs": [
    {
     "name": "stdout",
     "output_type": "stream",
     "text": [
      "... loading data\n"
     ]
    }
   ],
   "source": [
    "# Load MNIST data\n",
    "datasets = load_data('mnist.pkl.gz')\n",
    "\n",
    "batch_size = 20\n",
    "\n",
    "train_set_x, train_set_y = datasets[0]\n",
    "valid_set_x, valid_set_y = datasets[1]\n",
    "test_set_x, test_set_y = datasets[2]\n",
    "\n",
    "# compute number of minibatches for training, validation and testing\n",
    "n_train_batches = train_set_x.get_value(borrow=True).shape[0] / batch_size\n",
    "n_valid_batches = valid_set_x.get_value(borrow=True).shape[0] / batch_size\n",
    "n_test_batches = test_set_x.get_value(borrow=True).shape[0] / batch_size"
   ]
  },
  {
   "cell_type": "code",
   "execution_count": 23,
   "metadata": {
    "collapsed": false
   },
   "outputs": [],
   "source": [
    "index = T.lscalar('index')\n",
    "\n",
    "\n",
    "# compile train function\n",
    "train = theano.function(inputs=[index],\n",
    "                        outputs=cost,\n",
    "                        updates=updates,\n",
    "                       givens={ x : train_set_x[index*batch_size : (index+1)*batch_size]}\n",
    "                       )"
   ]
  },
  {
   "cell_type": "code",
   "execution_count": 24,
   "metadata": {
    "collapsed": false
   },
   "outputs": [
    {
     "name": "stdout",
     "output_type": "stream",
     "text": [
      "cost per iteration :  63.2154804504\n",
      "cost per iteration :  55.7913007095\n",
      "cost per iteration :  54.7836948883\n",
      "cost per iteration :  54.2756162872\n",
      "cost per iteration :  53.9338045303\n",
      "cost per iteration :  53.6743318695\n",
      "cost per iteration :  53.4639914398\n",
      "cost per iteration :  53.2869263062\n",
      "cost per iteration :  53.134205513\n",
      "cost per iteration :  52.9999676834\n",
      "cost per iteration :  52.880374469\n",
      "cost per iteration :  52.7728924377\n",
      "cost per iteration :  52.6755179123\n",
      "cost per iteration :  52.586786499\n",
      "cost per iteration :  52.5054787415\n",
      "cost per iteration :  52.4305104568\n",
      "cost per iteration :  52.3609948074\n",
      "cost per iteration :  52.2962339813\n",
      "cost per iteration :  52.2356936401\n",
      "cost per iteration :  52.1789335449\n",
      "cost per iteration :  52.1255581131\n",
      "cost per iteration :  52.0752050476\n",
      "cost per iteration :  52.0275402222\n",
      "cost per iteration :  51.9822658051\n",
      "cost per iteration :  51.9391478119\n",
      "cost per iteration :  51.8980120346\n",
      "cost per iteration :  51.8587114212\n",
      "cost per iteration :  51.8211178055\n",
      "cost per iteration :  51.7851122894\n",
      "cost per iteration :  51.7505765991\n",
      "cost per iteration :  51.7173904984\n",
      "cost per iteration :  51.6854296143\n",
      "cost per iteration :  51.6546075195\n",
      "cost per iteration :  51.6249747192\n",
      "cost per iteration :  51.5965749664\n",
      "cost per iteration :  51.5693567123\n",
      "cost per iteration :  51.5432169632\n",
      "cost per iteration :  51.5180487595\n",
      "cost per iteration :  51.4937636658\n",
      "cost per iteration :  51.4702899521\n",
      "cost per iteration :  51.4475616974\n",
      "cost per iteration :  51.4255210709\n",
      "cost per iteration :  51.4041485641\n",
      "cost per iteration :  51.3834789917\n",
      "cost per iteration :  51.3635252213\n",
      "cost per iteration :  51.3442611053\n",
      "cost per iteration :  51.3256478912\n",
      "cost per iteration :  51.3076442917\n",
      "cost per iteration :  51.2902066559\n",
      "cost per iteration :  51.273291011\n",
      "cost per iteration :  51.2568521255\n",
      "cost per iteration :  51.2408441956\n",
      "cost per iteration :  51.2252225357\n",
      "cost per iteration :  51.2099471054\n",
      "cost per iteration :  51.1949869232\n",
      "cost per iteration :  51.1803236694\n",
      "cost per iteration :  51.1659487457\n",
      "cost per iteration :  51.1518545944\n",
      "cost per iteration :  51.1380289444\n",
      "cost per iteration :  51.1244546356\n",
      "cost per iteration :  51.111111554\n",
      "cost per iteration :  51.0979816635\n",
      "cost per iteration :  51.0850519699\n",
      "cost per iteration :  51.0723156006\n",
      "cost per iteration :  51.0597696701\n",
      "cost per iteration :  51.0474134918\n",
      "cost per iteration :  51.0352489258\n",
      "cost per iteration :  51.0232797562\n",
      "cost per iteration :  51.0115106552\n",
      "cost per iteration :  50.9999417847\n",
      "cost per iteration :  50.9885676254\n",
      "cost per iteration :  50.9773745728\n",
      "cost per iteration :  50.9663428986\n",
      "cost per iteration :  50.9554425583\n",
      "cost per iteration :  50.9446238815\n",
      "cost per iteration :  50.9338267319\n",
      "cost per iteration :  50.9230825333\n",
      "cost per iteration :  50.9124780777\n",
      "cost per iteration :  50.9020372452\n",
      "cost per iteration :  50.8917578979\n",
      "cost per iteration :  50.8816474579\n",
      "cost per iteration :  50.8717197968\n"
     ]
    },
    {
     "ename": "KeyboardInterrupt",
     "evalue": "",
     "output_type": "error",
     "traceback": [
      "\u001b[1;31m---------------------------------------------------------------------------\u001b[0m",
      "\u001b[1;31mKeyboardInterrupt\u001b[0m                         Traceback (most recent call last)",
      "\u001b[1;32m<ipython-input-24-cf323211d577>\u001b[0m in \u001b[0;36m<module>\u001b[1;34m()\u001b[0m\n\u001b[0;32m      3\u001b[0m     \u001b[0mcost_iter\u001b[0m \u001b[1;33m=\u001b[0m \u001b[1;36m0\u001b[0m\u001b[1;33m\u001b[0m\u001b[0m\n\u001b[0;32m      4\u001b[0m     \u001b[1;32mfor\u001b[0m \u001b[0mi\u001b[0m \u001b[1;32min\u001b[0m \u001b[0mxrange\u001b[0m\u001b[1;33m(\u001b[0m\u001b[0mn_train_batches\u001b[0m\u001b[1;33m)\u001b[0m\u001b[1;33m:\u001b[0m\u001b[1;33m\u001b[0m\u001b[0m\n\u001b[1;32m----> 5\u001b[1;33m         \u001b[0mcost_iter\u001b[0m \u001b[1;33m+=\u001b[0m  \u001b[0mtrain\u001b[0m\u001b[1;33m(\u001b[0m\u001b[0mi\u001b[0m\u001b[1;33m)\u001b[0m\u001b[1;33m\u001b[0m\u001b[0m\n\u001b[0m\u001b[0;32m      6\u001b[0m     \u001b[1;32mprint\u001b[0m \u001b[1;34m'cost per iteration : '\u001b[0m\u001b[1;33m,\u001b[0m\u001b[0mcost_iter\u001b[0m\u001b[1;33m/\u001b[0m\u001b[0mn_train_batches\u001b[0m\u001b[1;33m\u001b[0m\u001b[0m\n\u001b[0;32m      7\u001b[0m \u001b[1;33m\u001b[0m\u001b[0m\n",
      "\u001b[1;32m/usr/local/lib/python2.7/dist-packages/theano/compile/function_module.pyc\u001b[0m in \u001b[0;36m__call__\u001b[1;34m(self, *args, **kwargs)\u001b[0m\n\u001b[0;32m    593\u001b[0m         \u001b[0mt0_fn\u001b[0m \u001b[1;33m=\u001b[0m \u001b[0mtime\u001b[0m\u001b[1;33m.\u001b[0m\u001b[0mtime\u001b[0m\u001b[1;33m(\u001b[0m\u001b[1;33m)\u001b[0m\u001b[1;33m\u001b[0m\u001b[0m\n\u001b[0;32m    594\u001b[0m         \u001b[1;32mtry\u001b[0m\u001b[1;33m:\u001b[0m\u001b[1;33m\u001b[0m\u001b[0m\n\u001b[1;32m--> 595\u001b[1;33m             \u001b[0moutputs\u001b[0m \u001b[1;33m=\u001b[0m \u001b[0mself\u001b[0m\u001b[1;33m.\u001b[0m\u001b[0mfn\u001b[0m\u001b[1;33m(\u001b[0m\u001b[1;33m)\u001b[0m\u001b[1;33m\u001b[0m\u001b[0m\n\u001b[0m\u001b[0;32m    596\u001b[0m         \u001b[1;32mexcept\u001b[0m \u001b[0mException\u001b[0m\u001b[1;33m:\u001b[0m\u001b[1;33m\u001b[0m\u001b[0m\n\u001b[0;32m    597\u001b[0m             \u001b[1;32mif\u001b[0m \u001b[0mhasattr\u001b[0m\u001b[1;33m(\u001b[0m\u001b[0mself\u001b[0m\u001b[1;33m.\u001b[0m\u001b[0mfn\u001b[0m\u001b[1;33m,\u001b[0m \u001b[1;34m'position_of_error'\u001b[0m\u001b[1;33m)\u001b[0m\u001b[1;33m:\u001b[0m\u001b[1;33m\u001b[0m\u001b[0m\n",
      "\u001b[1;32m/usr/local/lib/python2.7/dist-packages/theano/gof/op.pyc\u001b[0m in \u001b[0;36mrval\u001b[1;34m(p, i, o, n)\u001b[0m\n\u001b[0;32m    766\u001b[0m             \u001b[1;31m# default arguments are stored in the closure of `rval`\u001b[0m\u001b[1;33m\u001b[0m\u001b[1;33m\u001b[0m\u001b[0m\n\u001b[0;32m    767\u001b[0m             \u001b[1;32mdef\u001b[0m \u001b[0mrval\u001b[0m\u001b[1;33m(\u001b[0m\u001b[0mp\u001b[0m\u001b[1;33m=\u001b[0m\u001b[0mp\u001b[0m\u001b[1;33m,\u001b[0m \u001b[0mi\u001b[0m\u001b[1;33m=\u001b[0m\u001b[0mnode_input_storage\u001b[0m\u001b[1;33m,\u001b[0m \u001b[0mo\u001b[0m\u001b[1;33m=\u001b[0m\u001b[0mnode_output_storage\u001b[0m\u001b[1;33m,\u001b[0m \u001b[0mn\u001b[0m\u001b[1;33m=\u001b[0m\u001b[0mnode\u001b[0m\u001b[1;33m)\u001b[0m\u001b[1;33m:\u001b[0m\u001b[1;33m\u001b[0m\u001b[0m\n\u001b[1;32m--> 768\u001b[1;33m                 \u001b[0mr\u001b[0m \u001b[1;33m=\u001b[0m \u001b[0mp\u001b[0m\u001b[1;33m(\u001b[0m\u001b[0mn\u001b[0m\u001b[1;33m,\u001b[0m \u001b[1;33m[\u001b[0m\u001b[0mx\u001b[0m\u001b[1;33m[\u001b[0m\u001b[1;36m0\u001b[0m\u001b[1;33m]\u001b[0m \u001b[1;32mfor\u001b[0m \u001b[0mx\u001b[0m \u001b[1;32min\u001b[0m \u001b[0mi\u001b[0m\u001b[1;33m]\u001b[0m\u001b[1;33m,\u001b[0m \u001b[0mo\u001b[0m\u001b[1;33m)\u001b[0m\u001b[1;33m\u001b[0m\u001b[0m\n\u001b[0m\u001b[0;32m    769\u001b[0m                 \u001b[1;32mfor\u001b[0m \u001b[0mo\u001b[0m \u001b[1;32min\u001b[0m \u001b[0mnode\u001b[0m\u001b[1;33m.\u001b[0m\u001b[0moutputs\u001b[0m\u001b[1;33m:\u001b[0m\u001b[1;33m\u001b[0m\u001b[0m\n\u001b[0;32m    770\u001b[0m                     \u001b[0mcompute_map\u001b[0m\u001b[1;33m[\u001b[0m\u001b[0mo\u001b[0m\u001b[1;33m]\u001b[0m\u001b[1;33m[\u001b[0m\u001b[1;36m0\u001b[0m\u001b[1;33m]\u001b[0m \u001b[1;33m=\u001b[0m \u001b[0mTrue\u001b[0m\u001b[1;33m\u001b[0m\u001b[0m\n",
      "\u001b[1;32m/usr/local/lib/python2.7/dist-packages/theano/tensor/raw_random.pyc\u001b[0m in \u001b[0;36mperform\u001b[1;34m(self, node, inputs, out_)\u001b[0m\n\u001b[0;32m    250\u001b[0m             \u001b[0mr\u001b[0m \u001b[1;33m=\u001b[0m \u001b[0mcopy\u001b[0m\u001b[1;33m(\u001b[0m\u001b[0mr\u001b[0m\u001b[1;33m)\u001b[0m\u001b[1;33m\u001b[0m\u001b[0m\n\u001b[0;32m    251\u001b[0m         \u001b[0mrout\u001b[0m\u001b[1;33m[\u001b[0m\u001b[1;36m0\u001b[0m\u001b[1;33m]\u001b[0m \u001b[1;33m=\u001b[0m \u001b[0mr\u001b[0m\u001b[1;33m\u001b[0m\u001b[0m\n\u001b[1;32m--> 252\u001b[1;33m         \u001b[0mrval\u001b[0m \u001b[1;33m=\u001b[0m \u001b[0mself\u001b[0m\u001b[1;33m.\u001b[0m\u001b[0mfn\u001b[0m\u001b[1;33m(\u001b[0m\u001b[0mr\u001b[0m\u001b[1;33m,\u001b[0m \u001b[1;33m*\u001b[0m\u001b[1;33m(\u001b[0m\u001b[0margs\u001b[0m \u001b[1;33m+\u001b[0m \u001b[1;33m[\u001b[0m\u001b[0mshape\u001b[0m\u001b[1;33m]\u001b[0m\u001b[1;33m)\u001b[0m\u001b[1;33m)\u001b[0m\u001b[1;33m\u001b[0m\u001b[0m\n\u001b[0m\u001b[0;32m    253\u001b[0m         \u001b[1;32mif\u001b[0m \u001b[1;32mnot\u001b[0m \u001b[0misinstance\u001b[0m\u001b[1;33m(\u001b[0m\u001b[0mrval\u001b[0m\u001b[1;33m,\u001b[0m \u001b[0mnumpy\u001b[0m\u001b[1;33m.\u001b[0m\u001b[0mndarray\u001b[0m\u001b[1;33m)\u001b[0m\u001b[0;31m \u001b[0m\u001b[0;31m\\\u001b[0m\u001b[1;33m\u001b[0m\u001b[0m\n\u001b[0;32m    254\u001b[0m                \u001b[1;32mor\u001b[0m \u001b[0mstr\u001b[0m\u001b[1;33m(\u001b[0m\u001b[0mrval\u001b[0m\u001b[1;33m.\u001b[0m\u001b[0mdtype\u001b[0m\u001b[1;33m)\u001b[0m \u001b[1;33m!=\u001b[0m \u001b[0mnode\u001b[0m\u001b[1;33m.\u001b[0m\u001b[0moutputs\u001b[0m\u001b[1;33m[\u001b[0m\u001b[1;36m1\u001b[0m\u001b[1;33m]\u001b[0m\u001b[1;33m.\u001b[0m\u001b[0mtype\u001b[0m\u001b[1;33m.\u001b[0m\u001b[0mdtype\u001b[0m\u001b[1;33m:\u001b[0m\u001b[1;33m\u001b[0m\u001b[0m\n",
      "\u001b[1;31mKeyboardInterrupt\u001b[0m: "
     ]
    }
   ],
   "source": [
    "# actual training\n",
    "for j in xrange(100):\n",
    "    cost_iter = 0\n",
    "    for i in xrange(n_train_batches):\n",
    "        cost_iter +=  train(i)\n",
    "    print 'cost per iteration : ',cost_iter/n_train_batches\n",
    "    \n",
    "    "
   ]
  }
 ],
 "metadata": {
  "kernelspec": {
   "display_name": "Python 2",
   "language": "python",
   "name": "python2"
  },
  "language_info": {
   "codemirror_mode": {
    "name": "ipython",
    "version": 2
   },
   "file_extension": ".py",
   "mimetype": "text/x-python",
   "name": "python",
   "nbconvert_exporter": "python",
   "pygments_lexer": "ipython2",
   "version": "2.7.6"
  }
 },
 "nbformat": 4,
 "nbformat_minor": 0
}
