{
 "cells": [
  {
   "cell_type": "code",
   "execution_count": 6,
   "metadata": {
    "collapsed": false
   },
   "outputs": [],
   "source": [
    "## Stacked Autoencoders with MNIST ##\n",
    "## url : http://deeplearning.net/tutorial/SdA.html ##\n",
    "import numpy as np\n",
    "import theano\n",
    "import theano.tensor as T\n",
    "\n",
    "from logistic import load_data,LogisticRegression\n",
    "from mlp import HiddenLayer\n",
    "from DA_module import DenoisingAutoencoder\n",
    "\n",
    "from theano.tensor.shared_randomstreams import RandomStreams"
   ]
  },
  {
   "cell_type": "code",
   "execution_count": 8,
   "metadata": {
    "collapsed": true
   },
   "outputs": [],
   "source": [
    "class StackedAutoencoder(object):\n",
    "    def __init__(self,rng,hidden_units,n_in=784,n_out=10,corruption_levels=[0.1,0.2,0.3]):\n",
    "        self.num_layers = len[hidden_units]\n",
    "        self.sigmoid_layers = []\n",
    "        self.dA_layers = []\n",
    "        self.params = []\n",
    "        theano.rng = RandomStreams(rng.randint(2**30))\n",
    "        # input data : x \n",
    "        self.x = T.matrix('x')\n",
    "        # output data : y\n",
    "        self.y = T.ivector('y')\n",
    "        \n",
    "        # setup the layers : input, size_of_input\n",
    "        for i in xrange(self.num_layers):\n",
    "            # if layer 0\n",
    "            if i == 0:\n",
    "                # layer 0 : takes n_in inputs\n",
    "                layer_input_size = n_in\n",
    "                layer_input = self.x\n",
    "            else:\n",
    "                layer_input_size = self.hidden_units[i-1]\n",
    "                # previous layer's output\n",
    "                # as the list of layers is built step by step\n",
    "                #  the last layer in the list is the previous layer\n",
    "                layer_input = sigmoid_layers[-1].output\n",
    "            #construct a sigmoid layer    \n",
    "            sigmoid_layer = HiddenLayer(rng=rng,\n",
    "                                        input=layer_input,\n",
    "                                        n_in=layer_input_size,\n",
    "                                        n_out=self.hidden_units[i],\n",
    "                                        activation=T.nnet.sigmoid)\n",
    "            # add constructed sigmoid layer to list\n",
    "            self.sigmoid_layers.append(sigmoid_layer)\n",
    "            # append params of this layer to params collection of sDA\n",
    "            self.params.extend(sigmoid_layer.params)\n",
    "            # setup the corresponding autoencoder layer\n",
    "            da = DenoisingAutoencoder(input=layer_input, rng=rng, num_v = layer_iput_size,\n",
    "                                      num_h = self.hidden_units[i],theano_rng=theano_rng,\n",
    "                                      w=sigmoid_layer.w,bh=sigmoid_layer.b)# param sharing\n",
    "            self.dA_layers.append(da)\n",
    "            \n",
    "        # setupt the last logistic layer\n",
    "        self.output_layer = LogisticRegression(input=self.sigmoid_layers[-1].output,n_in=self.hidden_units[-1],\n",
    "                                         n_out = n_out)\n",
    "        # add params of logistic layer to global params\n",
    "        self.params.extend(output_layer.params)\n",
    "        # fine_tune cost\n",
    "        self.fine_tune_cost = self.output_layer.neg_log_likelihood(self.y)\n",
    "                    \n",
    "                \n",
    "                "
   ]
  }
 ],
 "metadata": {
  "kernelspec": {
   "display_name": "Python 2",
   "language": "python",
   "name": "python2"
  },
  "language_info": {
   "codemirror_mode": {
    "name": "ipython",
    "version": 2
   },
   "file_extension": ".py",
   "mimetype": "text/x-python",
   "name": "python",
   "nbconvert_exporter": "python",
   "pygments_lexer": "ipython2",
   "version": "2.7.6"
  }
 },
 "nbformat": 4,
 "nbformat_minor": 0
}
