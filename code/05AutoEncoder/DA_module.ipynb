{
 "cells": [
  {
   "cell_type": "code",
   "execution_count": 1,
   "metadata": {
    "collapsed": false
   },
   "outputs": [
    {
     "name": "stderr",
     "output_type": "stream",
     "text": [
      "Using gpu device 0: GeForce GTX 960\n"
     ]
    }
   ],
   "source": [
    "## Autoencoder : http://deeplearning.net/tutorial/dA.html ##\n",
    "import numpy as np\n",
    "import theano\n",
    "import theano.tensor as T\n",
    "\n",
    "from logistic import load_data\n",
    "\n",
    "from theano.tensor.shared_randomstreams import RandomStreams\n",
    "from utils import tile_raster_images\n"
   ]
  },
  {
   "cell_type": "code",
   "execution_count": 2,
   "metadata": {
    "collapsed": false
   },
   "outputs": [],
   "source": [
    "class DenoisingAutoencoder(object):\n",
    "    def __init__(self,input,rng,num_v,num_h,theano_rng=None):\n",
    "        self.num_h = num_h\n",
    "        self.num_v = num_v\n",
    "        # setup random stream\n",
    "        if not theano_rng:\n",
    "            self.theano_rng = RandomStreams(rng.randint(2 ** 30))\n",
    "        # init weight\n",
    "        wval = np.asarray(rng.uniform(low=-4 * np.sqrt(6. / (num_h + num_v)),\n",
    "                                      high=4 * np.sqrt(6. / (num_h + num_v)),\n",
    "                                      size=(num_v,num_h)),dtype=theano.config.floatX)\n",
    "        self.w = theano.shared(value=wval,name='w',borrow = True)\n",
    "        # init visible layer bias\n",
    "        self.bv = theano.shared(value = np.zeros(num_v,dtype=theano.config.floatX),name='bv',borrow=True)\n",
    "        # init hidden layer bias\n",
    "        self.bh = theano.shared(value = np.zeros(num_h,dtype=theano.config.floatX),name='bh',borrow=True)\n",
    "        # setup weight hidden-output layer connections\n",
    "        #  -> tied weights\n",
    "        self.w_ = self.w.T\n",
    "        self.x = input\n",
    "        self.params = [self.w,self.bv,self.bh]\n",
    "        \n",
    "    def encode(self,x_):\n",
    "        return T.nnet.sigmoid(T.dot(x_,self.w) + self.bh) ### Notice the use of bh here ###\n",
    "    \n",
    "    def decode(self,code):\n",
    "        return T.nnet.sigmoid(T.dot(code,self.w_) + self.bv) ### Notice the use of bv here ###\n",
    "    \n",
    "    def loss(self,y,z):\n",
    "        return - T.sum(self.x * T.log(z) + (1 - self.x) * T.log(1 - z), axis=1)\n",
    "\n",
    "    def cost(self,y,z):\n",
    "        return T.mean(self.loss(y,z))\n",
    "    \n",
    "    def corrupt_x(self,corruption_level):\n",
    "        return self.theano_rng.binomial(size=self.x.shape, n=1,\n",
    "                                        p=1 - corruption_level,\n",
    "                                        dtype=theano.config.floatX) * self.x\n",
    "   \n",
    "    def step(self,corruption_level=0.,learning_rate=0.1):\n",
    "        x_ = self.corrupt_x(corruption_level=corruption_level)\n",
    "        y  = self.encode(x_)\n",
    "        z  = self.decode(y)\n",
    "        # setup cost, gradients and updates\n",
    "        cost = self.cost(y,z)\n",
    "\n",
    "        # gradients\n",
    "        gparams = T.grad(cost,self.params)\n",
    "        \n",
    "        # updates\n",
    "        updates = [ (param, param - (learning_rate*gparam) )\n",
    "              for param,gparam in zip(self.params,gparams)]\n",
    "        \n",
    "        return (cost,updates)\n",
    "            "
   ]
  },
  {
   "cell_type": "code",
   "execution_count": 5,
   "metadata": {
    "collapsed": false
   },
   "outputs": [],
   "source": [
    "x = T.matrix('x')\n",
    "# numpy randomstate\n",
    "rng = np.random.RandomState(12363)\n",
    "da = DenoisingAutoencoder(rng=rng,input=x,num_v=28*28,num_h=500)"
   ]
  },
  {
   "cell_type": "code",
   "execution_count": 3,
   "metadata": {
    "collapsed": false
   },
   "outputs": [
    {
     "name": "stdout",
     "output_type": "stream",
     "text": [
      "... loading data\n"
     ]
    }
   ],
   "source": [
    "# Load MNIST data\n",
    "datasets = load_data('mnist.pkl.gz')\n",
    "\n",
    "batch_size = 20\n",
    "\n",
    "train_set_x, train_set_y = datasets[0]\n",
    "valid_set_x, valid_set_y = datasets[1]\n",
    "test_set_x, test_set_y = datasets[2]\n",
    "\n",
    "# compute number of minibatches for training, validation and testing\n",
    "n_train_batches = train_set_x.get_value(borrow=True).shape[0] / batch_size\n",
    "n_valid_batches = valid_set_x.get_value(borrow=True).shape[0] / batch_size\n",
    "n_test_batches = test_set_x.get_value(borrow=True).shape[0] / batch_size"
   ]
  },
  {
   "cell_type": "code",
   "execution_count": 6,
   "metadata": {
    "collapsed": false
   },
   "outputs": [],
   "source": [
    "index = T.lscalar('index')\n",
    "\n",
    "cost,updates = da.step(corruption_level=0.3)\n",
    "# compile train function\n",
    "train = theano.function(inputs=[index],\n",
    "                        outputs=cost,\n",
    "                        updates=updates,\n",
    "                       givens={ x : train_set_x[index*batch_size : (index+1)*batch_size]}\n",
    "                       )"
   ]
  },
  {
   "cell_type": "code",
   "execution_count": 7,
   "metadata": {
    "collapsed": false
   },
   "outputs": [
    {
     "name": "stdout",
     "output_type": "stream",
     "text": [
      "cost per iteration :  81.8487316727\n",
      "cost per iteration :  73.6065781754\n",
      "cost per iteration :  70.9644064636\n",
      "cost per iteration :  69.3590693268\n",
      "cost per iteration :  68.3619637985\n",
      "cost per iteration :  67.6654694885\n",
      "cost per iteration :  67.183845697\n",
      "cost per iteration :  66.8012939285\n",
      "cost per iteration :  66.5456183334\n",
      "cost per iteration :  66.3338180008\n",
      "cost per iteration :  66.1104424957\n",
      "cost per iteration :  65.9307809448\n",
      "cost per iteration :  65.7940334183\n",
      "cost per iteration :  65.6792003967\n",
      "cost per iteration :  65.518634491\n",
      "cost per iteration :  65.4138327393\n",
      "cost per iteration :  65.3170308823\n",
      "cost per iteration :  65.2860350082\n",
      "cost per iteration :  65.1964902969\n",
      "cost per iteration :  65.1203567871\n",
      "cost per iteration :  65.0608457504\n",
      "cost per iteration :  65.0062855972\n",
      "cost per iteration :  64.9836480576\n",
      "cost per iteration :  64.9050485611\n",
      "cost per iteration :  64.853920163\n",
      "cost per iteration :  64.8225509125\n",
      "cost per iteration :  64.7627804687\n",
      "cost per iteration :  64.7353253296\n",
      "cost per iteration :  64.7265994553\n",
      "cost per iteration :  64.6647496872\n",
      "cost per iteration :  64.6782940445\n",
      "cost per iteration :  64.6083462112\n",
      "cost per iteration :  64.6100802689\n",
      "cost per iteration :  64.5511617676\n",
      "cost per iteration :  64.5385881912\n",
      "cost per iteration :  64.4988071609\n",
      "cost per iteration :  64.4998096451\n",
      "cost per iteration :  64.4827484802\n",
      "cost per iteration :  64.4241624481\n",
      "cost per iteration :  64.3694525467\n",
      "cost per iteration :  64.4127114838\n",
      "cost per iteration :  64.3640980011\n",
      "cost per iteration :  64.3907559967\n",
      "cost per iteration :  64.3853991562\n",
      "cost per iteration :  64.2986039841\n",
      "cost per iteration :  64.3128966705\n",
      "cost per iteration :  64.2907209839\n",
      "cost per iteration :  64.2901187744\n",
      "cost per iteration :  64.2653943939\n",
      "cost per iteration :  64.2368153488\n",
      "cost per iteration :  64.2438325104\n",
      "cost per iteration :  64.2473103256\n",
      "cost per iteration :  64.1928928818\n",
      "cost per iteration :  64.2118196609\n",
      "cost per iteration :  64.2033213776\n",
      "cost per iteration :  64.1786489365\n",
      "cost per iteration :  64.1890822144\n",
      "cost per iteration :  64.1627292206\n",
      "cost per iteration :  64.1643830963\n",
      "cost per iteration :  64.1531270905\n",
      "cost per iteration :  64.1280711182\n",
      "cost per iteration :  64.1264022491\n",
      "cost per iteration :  64.0983328384\n",
      "cost per iteration :  64.1152928589\n",
      "cost per iteration :  64.0820305237\n",
      "cost per iteration :  64.0678478592\n",
      "cost per iteration :  64.0823674103\n",
      "cost per iteration :  64.0723729553\n",
      "cost per iteration :  64.1024164917\n",
      "cost per iteration :  64.0340541428\n",
      "cost per iteration :  64.03419207\n",
      "cost per iteration :  64.0261294113\n",
      "cost per iteration :  64.0349756805\n",
      "cost per iteration :  64.0140574829\n",
      "cost per iteration :  64.0107952255\n",
      "cost per iteration :  64.0047446579\n",
      "cost per iteration :  64.007009404\n",
      "cost per iteration :  64.0228579422\n",
      "cost per iteration :  63.9749563293\n",
      "cost per iteration :  63.9849229843\n",
      "cost per iteration :  63.9813168716\n",
      "cost per iteration :  63.9683291611\n",
      "cost per iteration :  63.9716684265\n",
      "cost per iteration :  63.9566422745\n",
      "cost per iteration :  63.9833533997\n",
      "cost per iteration :  63.9488597\n",
      "cost per iteration :  63.9553570007\n",
      "cost per iteration :  63.9235698837\n",
      "cost per iteration :  63.945359375\n",
      "cost per iteration :  63.8959629959\n",
      "cost per iteration :  63.9227885269\n",
      "cost per iteration :  63.9255585419\n",
      "cost per iteration :  63.9456535431\n",
      "cost per iteration :  63.912444809\n",
      "cost per iteration :  63.8838280807\n",
      "cost per iteration :  63.903507959\n",
      "cost per iteration :  63.908324646\n",
      "cost per iteration :  63.8883615417\n",
      "cost per iteration :  63.9290889008\n",
      "cost per iteration :  63.9118241806\n"
     ]
    }
   ],
   "source": [
    "# actual training\n",
    "for j in xrange(100):\n",
    "    cost_iter = 0\n",
    "    for i in xrange(n_train_batches):\n",
    "        cost_iter +=  train(i)\n",
    "    print 'cost per iteration : ',cost_iter/n_train_batches"
   ]
  },
  {
   "cell_type": "code",
   "execution_count": 8,
   "metadata": {
    "collapsed": false
   },
   "outputs": [],
   "source": [
    "import PIL.Image as Image\n",
    "\n",
    "# visualization\n",
    "image = Image.fromarray(\n",
    "        tile_raster_images(X=da.w.get_value(borrow=True).T,\n",
    "                           img_shape=(28, 28), tile_shape=(10, 10),\n",
    "                           tile_spacing=(1, 1)))\n",
    "image.save('filters_corruption_30.png')\n"
   ]
  }
 ],
 "metadata": {
  "kernelspec": {
   "display_name": "Python 2",
   "language": "python",
   "name": "python2"
  },
  "language_info": {
   "codemirror_mode": {
    "name": "ipython",
    "version": 2
   },
   "file_extension": ".py",
   "mimetype": "text/x-python",
   "name": "python",
   "nbconvert_exporter": "python",
   "pygments_lexer": "ipython2",
   "version": "2.7.6"
  }
 },
 "nbformat": 4,
 "nbformat_minor": 0
}
