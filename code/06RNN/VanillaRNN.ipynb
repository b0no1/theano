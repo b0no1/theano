{
 "cells": [
  {
   "cell_type": "code",
   "execution_count": 1,
   "metadata": {
    "collapsed": false
   },
   "outputs": [
    {
     "name": "stderr",
     "output_type": "stream",
     "text": [
      "Using gpu device 0: GeForce GTX 960\n"
     ]
    }
   ],
   "source": [
    "### http://deeplearning.net/tutorial/rnnslu.html ###\n",
    "## https://github.com/dennybritz/rnn-tutorial-rnnlm/blob/master/rnn_theano.py ##\n",
    "#https://github.com/dennybritz/rnn-tutorial-rnnlm/blob/master/train-theano.py#\n",
    "#http://www.wildml.com/2015/09/recurrent-neural-networks-tutorial-part-2-implementing-a-language-model-rnn-with-python-numpy-and-theano/#\n",
    "\n",
    "import numpy as np\n",
    "import theano\n",
    "import theano.tensor as T"
   ]
  },
  {
   "cell_type": "code",
   "execution_count": 2,
   "metadata": {
    "collapsed": true
   },
   "outputs": [],
   "source": [
    "#-------------------------------------------------------#\n",
    "## Start building the model ##\n",
    "class RecurrentNet(object):\n",
    "    def __init__(self,num_h=100,word_dim=8000,bptt_truncate=4):\n",
    "        self.num_h = num_h\n",
    "        self.word_dim = word_dim\n",
    "        self.bptt_truncate = bptt_truncate\n",
    "        # init network param Wih,Who,Whh\n",
    "        Wih_val = np.random.uniform(-np.sqrt(1./word_dim), np.sqrt(1./word_dim),(num_h,word_dim),\n",
    "                                    dtype=theano.config.floatX)\n",
    "        Whh_val = np.random.uniform(-np.sqrt(1./num_h), np.sqrt(1./num_h),(num_h,num_h),\n",
    "                                    dtype=theano.config.floatX)\n",
    "        Who_val = np.random.uniform(-np.sqrt(1./num_h), np.sqrt(1./num_h),(word_dim,num_h),\n",
    "                                    dtype=theano.config.floatX)\n",
    "        # set value to shared variables\n",
    "        Wih = theano.shared(value=Wih_val,borrow=True,name='Wih')\n",
    "        Whh = theano.shared(value=Wih_val,borrow=True,name='Whh')\n",
    "        Who = theano.shared(value=Wih_val,borrow=True,name='Who')\n",
    "    \n",
    "    # forward propagation\n",
    "    def fstep(self,xt,st_prev):\n",
    "        # calculate current state\n",
    "        st = T.tanh(T.dot(Whh,st_prev) + T.dot(xt,Wih))\n",
    "        ot = T.nnet.softmax(T.dot(st,Who))\n",
    "        "
   ]
  }
 ],
 "metadata": {
  "kernelspec": {
   "display_name": "Python 2",
   "language": "python",
   "name": "python2"
  },
  "language_info": {
   "codemirror_mode": {
    "name": "ipython",
    "version": 2
   },
   "file_extension": ".py",
   "mimetype": "text/x-python",
   "name": "python",
   "nbconvert_exporter": "python",
   "pygments_lexer": "ipython2",
   "version": "2.7.6"
  }
 },
 "nbformat": 4,
 "nbformat_minor": 0
}
