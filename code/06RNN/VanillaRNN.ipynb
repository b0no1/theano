{
 "cells": [
  {
   "cell_type": "code",
   "execution_count": 1,
   "metadata": {
    "collapsed": false
   },
   "outputs": [],
   "source": [
    "### http://deeplearning.net/tutorial/rnnslu.html ###\n",
    "## https://github.com/dennybritz/rnn-tutorial-rnnlm/blob/master/rnn_theano.py ##\n",
    "#https://github.com/dennybritz/rnn-tutorial-rnnlm/blob/master/train-theano.py#\n",
    "#http://www.wildml.com/2015/09/recurrent-neural-networks-tutorial-part-2-implementing-a-language-model-rnn-with-python-numpy-and-theano/#\n",
    "\n",
    "import numpy as np\n",
    "import theano\n",
    "import theano.tensor as T"
   ]
  },
  {
   "cell_type": "code",
   "execution_count": 122,
   "metadata": {
    "collapsed": false
   },
   "outputs": [],
   "source": [
    "#-------------------------------------------------------#\n",
    "## Start building the model ##\n",
    "class RecurrentNet(object):\n",
    "    def __init__(self,num_h=100,word_dim=8000,bptt_truncate=4):\n",
    "        self.num_h = num_h\n",
    "        self.word_dim = word_dim\n",
    "        self.bptt_truncate = bptt_truncate\n",
    "        # init network param Wih,Who,Whh\n",
    "        Wih_val = np.random.uniform(-np.sqrt(1./word_dim), np.sqrt(1./word_dim),(num_h,word_dim))\n",
    "        Whh_val = np.random.uniform(-np.sqrt(1./num_h), np.sqrt(1./num_h),(num_h,num_h))\n",
    "        Who_val = np.random.uniform(-np.sqrt(1./num_h), np.sqrt(1./num_h),(word_dim,num_h))\n",
    "        # set value to shared variables\n",
    "        self.Wih = theano.shared(value=Wih_val.astype(theano.config.floatX),borrow=True,name='Wih')\n",
    "        self.Whh = theano.shared(value=Whh_val.astype(theano.config.floatX),borrow=True,name='Whh')\n",
    "        self.Who = theano.shared(value=Who_val.astype(theano.config.floatX),borrow=True,name='Who')\n",
    "        # setup biases\n",
    "        self.bh = theano.shared(np.zeros((num_h,1)).astype(theano.config.floatX),borrow=True, name='bh')\n",
    "        self.bo = theano.shared(np.zeros((word_dim,1)).astype(theano.config.floatX),borrow=True, name='bo')\n",
    "        # state of hidden layer/network\n",
    "        state_val = np.zeros(shape=(100,1),dtype=theano.config.floatX)\n",
    "        self.state = theano.shared(value=state_val,borrow=True,name='state')\n",
    "        # cost\n",
    "        cost = T.sum(T.nnet.categorical_crossentropy(o, y))\n",
    "    \n",
    "    # forward propagation\n",
    "    def fstep(self,i):\n",
    "        # given input i, calculate current state \n",
    "        self.state = T.tanh(T.dot(self.Whh,self.state) + T.dot(self.Wih,i) + self.bh)\n",
    "        o = T.nnet.softmax(T.dot(self.Who,self.state) + self.bo)\n",
    "        return o,np.argmax(o, axis=1)"
   ]
  },
  {
   "cell_type": "code",
   "execution_count": 123,
   "metadata": {
    "collapsed": false
   },
   "outputs": [],
   "source": []
  }
 ],
 "metadata": {
  "kernelspec": {
   "display_name": "Python 2",
   "language": "python",
   "name": "python2"
  },
  "language_info": {
   "codemirror_mode": {
    "name": "ipython",
    "version": 2
   },
   "file_extension": ".py",
   "mimetype": "text/x-python",
   "name": "python",
   "nbconvert_exporter": "python",
   "pygments_lexer": "ipython2",
   "version": "2.7.6"
  }
 },
 "nbformat": 4,
 "nbformat_minor": 0
}
