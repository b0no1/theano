{
 "cells": [
  {
   "cell_type": "code",
   "execution_count": 2,
   "metadata": {
    "collapsed": true
   },
   "outputs": [],
   "source": [
    "import numpy as np"
   ]
  },
  {
   "cell_type": "code",
   "execution_count": 4,
   "metadata": {
    "collapsed": true
   },
   "outputs": [],
   "source": [
    "# Create dataset\n",
    "nb_of_samples = 20\n",
    "sequence_len = 10\n",
    "# Create the sequences\n",
    "X = np.zeros((nb_of_samples, sequence_len))\n",
    "for row_idx in range(nb_of_samples):\n",
    "    X[row_idx,:] = np.around(np.random.rand(sequence_len)).astype(int)\n",
    "# Create the targets for each sequence\n",
    "t = np.sum(X, axis=1)"
   ]
  },
  {
   "cell_type": "code",
   "execution_count": 18,
   "metadata": {
    "collapsed": false
   },
   "outputs": [
    {
     "name": "stdout",
     "output_type": "stream",
     "text": [
      "[[ 1.  0.  1.  0.  0.  1.  0.  1.  1.  0.]\n",
      " [ 0.  1.  0.  1.  1.  0.  0.  1.  0.  1.]\n",
      " [ 0.  0.  0.  0.  1.  1.  1.  0.  0.  1.]\n",
      " [ 0.  0.  0.  0.  1.  1.  1.  0.  1.  0.]\n",
      " [ 1.  0.  1.  1.  1.  0.  1.  1.  1.  0.]\n",
      " [ 0.  0.  1.  1.  1.  1.  0.  0.  1.  1.]\n",
      " [ 1.  0.  0.  0.  1.  0.  1.  0.  1.  1.]\n",
      " [ 1.  1.  1.  0.  0.  0.  0.  1.  0.  1.]\n",
      " [ 0.  0.  1.  0.  0.  1.  1.  1.  1.  0.]\n",
      " [ 1.  0.  1.  1.  0.  0.  0.  1.  1.  0.]\n",
      " [ 1.  1.  0.  1.  0.  0.  0.  1.  1.  0.]\n",
      " [ 1.  1.  1.  0.  0.  1.  1.  0.  1.  0.]\n",
      " [ 1.  0.  1.  0.  0.  0.  0.  1.  0.  0.]\n",
      " [ 0.  1.  0.  1.  1.  1.  1.  1.  0.  1.]\n",
      " [ 0.  1.  0.  1.  0.  1.  0.  0.  1.  0.]\n",
      " [ 0.  1.  0.  0.  1.  1.  1.  0.  1.  0.]\n",
      " [ 1.  1.  1.  1.  0.  1.  1.  1.  0.  0.]\n",
      " [ 0.  1.  0.  1.  0.  1.  1.  0.  0.  1.]\n",
      " [ 0.  1.  1.  0.  0.  1.  0.  1.  1.  1.]\n",
      " [ 0.  0.  0.  1.  0.  0.  1.  1.  1.  0.]]\n",
      "20\n"
     ]
    }
   ],
   "source": [
    "#print t\n",
    "print X\n",
    "# sum of each sequence gives t\n",
    "X.shape[0]\n",
    "M = X.shape[0]\n",
    "print M"
   ]
  },
  {
   "cell_type": "code",
   "execution_count": 8,
   "metadata": {
    "collapsed": true
   },
   "outputs": [],
   "source": [
    "def step(xk,sk,Wx,Wrec):\n",
    "    return (xk*Wx) + (Wrec*sk)    "
   ]
  },
  {
   "cell_type": "code",
   "execution_count": 13,
   "metadata": {
    "collapsed": true
   },
   "outputs": [],
   "source": [
    "def forward(X,Wx,Wrec):\n",
    "    # S : a list of states : n+1 states\n",
    "    #  given n = X.shape[1] = 10 \n",
    "    #   also X.shape[0] = 20 (training examples)\n",
    "    S = np.zeros((X.shape[0], X.shape[1] + 1))\n",
    "    # iterate through each item in sequence(10), for each batch(size = 20)\n",
    "    for k in xrange(X.shape[1]):\n",
    "        S[:,k+1] = step(X[:,k],S[:,k],Wx,Wrec)\n",
    "    return S"
   ]
  },
  {
   "cell_type": "code",
   "execution_count": 17,
   "metadata": {
    "collapsed": true
   },
   "outputs": [],
   "source": [
    "def cost(y,t):\n",
    "    return ((y-t)**2).sum()/M"
   ]
  },
  {
   "cell_type": "code",
   "execution_count": 20,
   "metadata": {
    "collapsed": true
   },
   "outputs": [],
   "source": [
    "def output_gradient(y,t):\n",
    "    return 2*(y-t)/M"
   ]
  },
  {
   "cell_type": "code",
   "execution_count": 46,
   "metadata": {
    "collapsed": true
   },
   "outputs": [],
   "source": [
    "def bwd_gradient(X,S,grad_out,Wrec):\n",
    "    # accumulate gradient of output w.r.t state in a list\n",
    "    #grad_state = np.zeros((X.shape[0],Xshape[1]+1))\n",
    "    grad_state = np.zeros(S.shape)\n",
    "    # gradient w.r.t of last layer\n",
    "    grad_state[:,-1] = grad_out\n",
    "    # init gradient containers for Wx and Wrec\n",
    "    #  grad_wx, grad_wrec\n",
    "    grad_wx=0\n",
    "    grad_wrec=0\n",
    "    for k in xrange(X.shape[1],0,-1):\n",
    "        grad_wx += np.sum(grad_state[:,k] * X[:,k-1])\n",
    "        grad_wrec += np.sum(grad_state[:,k] * S[:,k-1])\n",
    "        # previous layer gradient \n",
    "        grad_state[:,k-1] = grad_state[:,k] * grad_wrec\n",
    "    return (grad_wx,grad_wrec)#,grad_state"
   ]
  },
  {
   "cell_type": "code",
   "execution_count": 26,
   "metadata": {
    "collapsed": false
   },
   "outputs": [
    {
     "name": "stdout",
     "output_type": "stream",
     "text": [
      "0.96139291365\n",
      "0.311680958476\n"
     ]
    }
   ],
   "source": [
    "Wx = np.random.uniform()\n",
    "print Wx\n",
    "Wrec = np.random.uniform()\n",
    "print Wrec"
   ]
  },
  {
   "cell_type": "code",
   "execution_count": 28,
   "metadata": {
    "collapsed": true
   },
   "outputs": [],
   "source": [
    "# get states\n",
    "S = forward(X,Wx,Wrec)"
   ]
  },
  {
   "cell_type": "code",
   "execution_count": 31,
   "metadata": {
    "collapsed": false
   },
   "outputs": [
    {
     "data": {
      "text/plain": [
       "array([ 5.,  5.,  4.,  4.,  7.,  6.,  5.,  5.,  5.,  5.,  5.,  6.,  3.,\n",
       "        7.,  4.,  5.,  7.,  5.,  6.,  4.])"
      ]
     },
     "execution_count": 31,
     "metadata": {},
     "output_type": "execute_result"
    }
   ],
   "source": [
    "t"
   ]
  },
  {
   "cell_type": "code",
   "execution_count": 34,
   "metadata": {
    "collapsed": false
   },
   "outputs": [
    {
     "data": {
      "text/plain": [
       "21.266034640791226"
      ]
     },
     "execution_count": 34,
     "metadata": {},
     "output_type": "execute_result"
    }
   ],
   "source": [
    "cost(S[:,-1],t)"
   ]
  },
  {
   "cell_type": "code",
   "execution_count": 37,
   "metadata": {
    "collapsed": false
   },
   "outputs": [
    {
     "name": "stdout",
     "output_type": "stream",
     "text": [
      "[-0.45975834 -0.39414177 -0.29975972 -0.36593422 -0.65738377 -0.47259025\n",
      " -0.37069954 -0.39448255 -0.45685008 -0.46057748 -0.46059639 -0.5661783\n",
      " -0.29063041 -0.59032356 -0.36903123 -0.46592566 -0.6867155  -0.3999458\n",
      " -0.46361315 -0.35769669]\n"
     ]
    }
   ],
   "source": [
    "grad_out = output_gradient(S[:,-1],t)\n",
    "print grad_out"
   ]
  },
  {
   "cell_type": "code",
   "execution_count": 50,
   "metadata": {
    "collapsed": false
   },
   "outputs": [
    {
     "name": "stderr",
     "output_type": "stream",
     "text": [
      "/usr/local/lib/python2.7/dist-packages/ipykernel/__main__.py:15: RuntimeWarning: overflow encountered in multiply\n",
      "/usr/local/lib/python2.7/dist-packages/ipykernel/__main__.py:12: RuntimeWarning: invalid value encountered in multiply\n",
      "/usr/local/lib/python2.7/dist-packages/ipykernel/__main__.py:13: RuntimeWarning: invalid value encountered in multiply\n"
     ]
    },
    {
     "data": {
      "text/plain": [
       "(nan, nan)"
      ]
     },
     "execution_count": 50,
     "metadata": {},
     "output_type": "execute_result"
    }
   ],
   "source": [
    "bwd_gradient(X,S,grad_out,Wrec)"
   ]
  },
  {
   "cell_type": "code",
   "execution_count": 49,
   "metadata": {
    "collapsed": false
   },
   "outputs": [
    {
     "data": {
      "text/plain": [
       "nan"
      ]
     },
     "execution_count": 49,
     "metadata": {},
     "output_type": "execute_result"
    }
   ],
   "source": [
    "grad_wx"
   ]
  }
 ],
 "metadata": {
  "kernelspec": {
   "display_name": "Python 2",
   "language": "python",
   "name": "python2"
  },
  "language_info": {
   "codemirror_mode": {
    "name": "ipython",
    "version": 2
   },
   "file_extension": ".py",
   "mimetype": "text/x-python",
   "name": "python",
   "nbconvert_exporter": "python",
   "pygments_lexer": "ipython2",
   "version": "2.7.6"
  }
 },
 "nbformat": 4,
 "nbformat_minor": 0
}
