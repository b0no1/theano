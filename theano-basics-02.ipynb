{
 "cells": [
  {
   "cell_type": "code",
   "execution_count": 2,
   "metadata": {
    "collapsed": true
   },
   "outputs": [],
   "source": [
    "import numpy as np\n",
    "import theano\n",
    "import theano.tensor as T"
   ]
  },
  {
   "cell_type": "code",
   "execution_count": 7,
   "metadata": {
    "collapsed": false
   },
   "outputs": [],
   "source": [
    "A = T.matrix('A')\n",
    "b = T.vector('b')\n",
    "x = T.vector('x')\n",
    "z = T.sum(A**2)\n",
    "y = T.dot(A,x) + b"
   ]
  },
  {
   "cell_type": "code",
   "execution_count": 20,
   "metadata": {
    "collapsed": false
   },
   "outputs": [],
   "source": [
    "b_default = np.array([0.,0.])"
   ]
  },
  {
   "cell_type": "code",
   "execution_count": 22,
   "metadata": {
    "collapsed": true
   },
   "outputs": [],
   "source": [
    "linear = theano.function([A,x,theano.Param(b,default=b_default)],[y,z])"
   ]
  },
  {
   "cell_type": "code",
   "execution_count": 25,
   "metadata": {
    "collapsed": false
   },
   "outputs": [
    {
     "name": "stdout",
     "output_type": "stream",
     "text": [
      "[array([ 14.,  32.]), array(91.0)]\n"
     ]
    }
   ],
   "source": [
    "print linear(np.array([[1,2,3],[4,5,6]]),np.array([1,2,3]))"
   ]
  },
  {
   "cell_type": "code",
   "execution_count": 38,
   "metadata": {
    "collapsed": false
   },
   "outputs": [
    {
     "name": "stdout",
     "output_type": "stream",
     "text": [
      "13.0\n"
     ]
    }
   ],
   "source": [
    "# Shared Variable\n",
    "shared_w = theano.shared(np.array([2,3],dtype = theano.config.floatX))\n",
    "shared_w_sq = T.sum(shared_w ** 2)\n",
    "shared_op = theano.function([],shared_w_sq)\n",
    "print shared_op()"
   ]
  },
  {
   "cell_type": "code",
   "execution_count": 47,
   "metadata": {
    "collapsed": false
   },
   "outputs": [
    {
     "name": "stdout",
     "output_type": "stream",
     "text": [
      "None\n",
      "[ 1.  1.]\n",
      "2.0\n"
     ]
    }
   ],
   "source": [
    "# Updates : For updating the values of the shared variable\n",
    "print shared_w.set_value(np.array([2,3],dtype=theano.config.floatX))\n",
    "delta = T.vector('delta')\n",
    "func_update = theano.function([delta],shared_w,updates={shared_w : shared_w - delta})\n",
    "func_update(np.array([1,2],dtype=theano.config.floatX))\n",
    "print shared_w.get_value()\n",
    "print shared_op()"
   ]
  },
  {
   "cell_type": "code",
   "execution_count": 58,
   "metadata": {
    "collapsed": false
   },
   "outputs": [
    {
     "name": "stdout",
     "output_type": "stream",
     "text": [
      "((x ** TensorConstant{2}) + (TensorConstant{2} * x))\n",
      "8.0\n",
      "6.0\n"
     ]
    }
   ],
   "source": [
    "# Gradients\n",
    "x = T.scalar('x')\n",
    "y = x**2 + 2*x\n",
    "print theano.pp(y)\n",
    "z = T.grad(y,x)\n",
    "print y.eval({x:2})\n",
    "print z.eval({x:2})"
   ]
  },
  {
   "cell_type": "code",
   "execution_count": null,
   "metadata": {
    "collapsed": true
   },
   "outputs": [],
   "source": [
    "## Running in GPU vs CPU\n",
    "'''\n",
    "THEANO_FLAGS=device=cpu,floatX=float64 python your_script.py\n",
    "\n",
    "or GPU:\n",
    "\n",
    "THEANO_FLAGS=device=gpu,floatX=float32 python your_script.py\n",
    "'''"
   ]
  }
 ],
 "metadata": {
  "kernelspec": {
   "display_name": "Python 2",
   "language": "python",
   "name": "python2"
  },
  "language_info": {
   "codemirror_mode": {
    "name": "ipython",
    "version": 2
   },
   "file_extension": ".py",
   "mimetype": "text/x-python",
   "name": "python",
   "nbconvert_exporter": "python",
   "pygments_lexer": "ipython2",
   "version": "2.7.6"
  }
 },
 "nbformat": 4,
 "nbformat_minor": 0
}
