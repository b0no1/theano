{
 "cells": [
  {
   "cell_type": "code",
   "execution_count": null,
   "metadata": {
    "collapsed": true
   },
   "outputs": [],
   "source": [
    "# just import statement\n",
    "import numpy as np"
   ]
  },
  {
   "cell_type": "code",
   "execution_count": null,
   "metadata": {
    "collapsed": false
   },
   "outputs": [],
   "source": [
    "# version\n",
    "print(np.__version__)\n",
    "# configuration\n",
    "print(np.__config__.show())"
   ]
  },
  {
   "cell_type": "code",
   "execution_count": 10,
   "metadata": {
    "collapsed": false
   },
   "outputs": [
    {
     "name": "stdout",
     "output_type": "stream",
     "text": [
      "(10,) [ 0.  0.  0.  0.  0.  0.  0.  0.  0.  0.]\n",
      "(10,) [ 0.  0.  0.  0.  0.  0.  0.  0.  0.  0.]\n"
     ]
    }
   ],
   "source": [
    "# create a null vector of size 10\n",
    "null_vec = np.zeros([10])\n",
    "print null_vec.shape, null_vec\n",
    "null_vec1 = np.zeros(10)\n",
    "print null_vec1.shape, null_vec1"
   ]
  },
  {
   "cell_type": "code",
   "execution_count": 12,
   "metadata": {
    "collapsed": true
   },
   "outputs": [
    {
     "name": "stdout",
     "output_type": "stream",
     "text": [
      " reshape(a, newshape, order='C')\n",
      "\n",
      "Gives a new shape to an array without changing its data.\n",
      "\n",
      "Parameters\n",
      "----------\n",
      "a : array_like\n",
      "    Array to be reshaped.\n",
      "newshape : int or tuple of ints\n",
      "    The new shape should be compatible with the original shape. If\n",
      "    an integer, then the result will be a 1-D array of that length.\n",
      "    One shape dimension can be -1. In this case, the value is inferred\n",
      "    from the length of the array and remaining dimensions.\n",
      "order : {'C', 'F', 'A'}, optional\n",
      "    Read the elements of `a` using this index order, and place the elements\n",
      "    into the reshaped array using this index order.  'C' means to\n",
      "    read / write the elements using C-like index order, with the last axis\n",
      "    index changing fastest, back to the first axis index changing slowest.\n",
      "    'F' means to read / write the elements using Fortran-like index order,\n",
      "    with the first index changing fastest, and the last index changing\n",
      "    slowest.\n",
      "    Note that the 'C' and 'F' options take no account of the memory layout\n",
      "    of the underlying array, and only refer to the order of indexing.  'A'\n",
      "    means to read / write the elements in Fortran-like index order if `a`\n",
      "    is Fortran *contiguous* in memory, C-like order otherwise.\n",
      "\n",
      "Returns\n",
      "-------\n",
      "reshaped_array : ndarray\n",
      "    This will be a new view object if possible; otherwise, it will\n",
      "    be a copy.  Note there is no guarantee of the *memory layout* (C- or\n",
      "    Fortran- contiguous) of the returned array.\n",
      "\n",
      "See Also\n",
      "--------\n",
      "ndarray.reshape : Equivalent method.\n",
      "\n",
      "Notes\n",
      "-----\n",
      "It is not always possible to change the shape of an array without\n",
      "copying the data. If you want an error to be raise if the data is copied,\n",
      "you should assign the new shape to the shape attribute of the array::\n",
      "\n",
      " >>> a = np.zeros((10, 2))\n",
      " # A transpose make the array non-contiguous\n",
      " >>> b = a.T\n",
      " # Taking a view makes it possible to modify the shape without modifying\n",
      " # the initial object.\n",
      " >>> c = b.view()\n",
      " >>> c.shape = (20)\n",
      " AttributeError: incompatible shape for a non-contiguous array\n",
      "\n",
      "The `order` keyword gives the index ordering both for *fetching* the values\n",
      "from `a`, and then *placing* the values into the output array.\n",
      "For example, let's say you have an array:\n",
      "\n",
      ">>> a = np.arange(6).reshape((3, 2))\n",
      ">>> a\n",
      "array([[0, 1],\n",
      "       [2, 3],\n",
      "       [4, 5]])\n",
      "\n",
      "You can think of reshaping as first raveling the array (using the given\n",
      "index order), then inserting the elements from the raveled array into the\n",
      "new array using the same kind of index ordering as was used for the\n",
      "raveling.\n",
      "\n",
      ">>> np.reshape(a, (2, 3)) # C-like index ordering\n",
      "array([[0, 1, 2],\n",
      "       [3, 4, 5]])\n",
      ">>> np.reshape(np.ravel(a), (2, 3)) # equivalent to C ravel then C reshape\n",
      "array([[0, 1, 2],\n",
      "       [3, 4, 5]])\n",
      ">>> np.reshape(a, (2, 3), order='F') # Fortran-like index ordering\n",
      "array([[0, 4, 3],\n",
      "       [2, 1, 5]])\n",
      ">>> np.reshape(np.ravel(a, order='F'), (2, 3), order='F')\n",
      "array([[0, 4, 3],\n",
      "       [2, 1, 5]])\n",
      "\n",
      "Examples\n",
      "--------\n",
      ">>> a = np.array([[1,2,3], [4,5,6]])\n",
      ">>> np.reshape(a, 6)\n",
      "array([1, 2, 3, 4, 5, 6])\n",
      ">>> np.reshape(a, 6, order='F')\n",
      "array([1, 4, 2, 5, 3, 6])\n",
      "\n",
      ">>> np.reshape(a, (3,-1))       # the unspecified value is inferred to be 2\n",
      "array([[1, 2],\n",
      "       [3, 4],\n",
      "       [5, 6]])\n"
     ]
    }
   ],
   "source": [
    "np.info(np.reshape)"
   ]
  },
  {
   "cell_type": "code",
   "execution_count": 15,
   "metadata": {
    "collapsed": true
   },
   "outputs": [
    {
     "name": "stdout",
     "output_type": "stream",
     "text": [
      "[ 0.  0.  0.  0.  1.  0.  0.  0.  0.  0.]\n",
      "before [[ 0.  0.  0.]\n",
      " [ 0.  0.  0.]\n",
      " [ 0.  0.  0.]]\n",
      "after [[ 1.  0.  0.]\n",
      " [ 0.  1.  0.]\n",
      " [ 0.  0.  1.]]\n"
     ]
    }
   ],
   "source": [
    "# a null vector of size 10, with 5th value as 1\n",
    "null_vec_2 = np.zeros(10)\n",
    "null_vec_2[4] = 1\n",
    "print null_vec_2\n",
    "# try something similar with 2d array\n",
    "temp_null_vec = np.zeros([3,3])\n",
    "print 'before',temp_null_vec\n",
    "for i in xrange(3):\n",
    "    temp_null_vec[i,i] = 1\n",
    "print 'after',temp_null_vec"
   ]
  },
  {
   "cell_type": "code",
   "execution_count": 27,
   "metadata": {
    "collapsed": false
   },
   "outputs": [
    {
     "name": "stdout",
     "output_type": "stream",
     "text": [
      "[10 11 12 13 14 15 16 17 18 19 20 21 22 23 24 25 26 27 28 29 30 31 32 33 34\n",
      " 35 36 37 38 39 40 41 42 43 44 45 46 47 48 49]\n"
     ]
    }
   ],
   "source": [
    "# create a vector ranging from 10-49\n",
    "# easy : just use arange\n",
    "new_vec_10_49 = np.arange(10,50)\n",
    "print new_vec_10_49\n",
    "# booom!"
   ]
  },
  {
   "cell_type": "code",
   "execution_count": 58,
   "metadata": {
    "collapsed": false
   },
   "outputs": [
    {
     "name": "stdout",
     "output_type": "stream",
     "text": [
      "[49 48 47 46 45 44 43 42 41 40 39 38 37 36 35 34 33 32 31 30 29 28 27 26 25\n",
      " 24 23 22 21 20 19 18 17 16 15 14 13 12 11 10]\n"
     ]
    }
   ],
   "source": [
    "# reverse a vector\n",
    "print new_vec_10_49[::-1]"
   ]
  },
  {
   "cell_type": "code",
   "execution_count": 61,
   "metadata": {
    "collapsed": false
   },
   "outputs": [
    {
     "name": "stdout",
     "output_type": "stream",
     "text": [
      "[[0 1 2]\n",
      " [3 4 5]\n",
      " [6 7 8]]\n"
     ]
    }
   ],
   "source": [
    "# create a 3x3 matrix with values 0-8\n",
    "print np.arange(9).reshape(3,3)"
   ]
  },
  {
   "cell_type": "code",
   "execution_count": 80,
   "metadata": {
    "collapsed": false
   },
   "outputs": [
    {
     "name": "stdout",
     "output_type": "stream",
     "text": [
      "indices (array([0, 1, 2, 5, 7]),)\n",
      "elements [1 2 3 5 6]\n",
      "[ 1.  1.  1.]\n",
      "[1 2 4 1 1]\n"
     ]
    }
   ],
   "source": [
    "# get the indices of non-elements\n",
    "temp_vec_with_zeros  = np.array([1,2,3,0,0,5,0,6])\n",
    "temp_vec_wo_zeros = np.nonzero(temp_vec_with_zeros)\n",
    "print 'indices',temp_vec_wo_zeros\n",
    "print 'elements',temp_vec_with_zeros[temp_vec_wo_zeros]\n",
    "\n",
    "x = np.eye(3)\n",
    "print x[np.nonzero(x)]\n",
    "y = np.array([[1,2,0,4],[1,0,0,1]])\n",
    "print y[np.nonzero(y)]"
   ]
  },
  {
   "cell_type": "code",
   "execution_count": 85,
   "metadata": {
    "collapsed": true
   },
   "outputs": [
    {
     "name": "stdout",
     "output_type": "stream",
     "text": [
      "[[ 1.  0.  0.]\n",
      " [ 0.  1.  0.]\n",
      " [ 0.  0.  1.]]\n"
     ]
    }
   ],
   "source": [
    "# 3x3 identity matrix\n",
    "print np.eye(3,3)"
   ]
  },
  {
   "cell_type": "code",
   "execution_count": 84,
   "metadata": {
    "collapsed": true
   },
   "outputs": [
    {
     "name": "stdout",
     "output_type": "stream",
     "text": [
      "[[[ 0.10105726  0.37921995  0.60843009]\n",
      "  [ 0.50395725  0.37257237  0.76085724]\n",
      "  [ 0.94342458  0.45740496  0.68632852]]\n",
      "\n",
      " [[ 0.283169    0.48092198  0.78233965]\n",
      "  [ 0.63332415  0.68638271  0.11467733]\n",
      "  [ 0.4309975   0.45182983  0.60620997]]\n",
      "\n",
      " [[ 0.92873858  0.50415258  0.9621811 ]\n",
      "  [ 0.50257209  0.01814115  0.46214015]\n",
      "  [ 0.3741058   0.84660411  0.46756382]]]\n"
     ]
    }
   ],
   "source": [
    "# create a 3x3x3 array of random values\n",
    "print np.random.random((3,3,3))\n",
    "# input param : tuple : shape"
   ]
  },
  {
   "cell_type": "code",
   "execution_count": 90,
   "metadata": {
    "collapsed": false
   },
   "outputs": [
    {
     "name": "stdout",
     "output_type": "stream",
     "text": [
      "max 0.999428312874\n",
      "min 0.0381272851765\n"
     ]
    }
   ],
   "source": [
    "# create 10x10 array with random values and find the minimum and maximum values\n",
    "print 'max',np.amax(np.random.random((10,10)))\n",
    "print 'min',np.amin(np.random.random((10,10)))"
   ]
  },
  {
   "cell_type": "code",
   "execution_count": 96,
   "metadata": {
    "collapsed": false
   },
   "outputs": [
    {
     "name": "stdout",
     "output_type": "stream",
     "text": [
      "mean 0.469269136754\n",
      "OR : mean 0.510674440469\n"
     ]
    }
   ],
   "source": [
    "# mean of vector with 30 random elements\n",
    "print 'mean',np.mean(np.random.random((30,)))\n",
    "print 'OR : mean',(np.random.random((30,))).mean()"
   ]
  },
  {
   "cell_type": "code",
   "execution_count": 110,
   "metadata": {
    "collapsed": true
   },
   "outputs": [
    {
     "name": "stdout",
     "output_type": "stream",
     "text": [
      "[[1 2 3]\n",
      " [4 5 6]\n",
      " [7 8 9]]\n",
      "[0 1 2 3 4]\n"
     ]
    },
    {
     "data": {
      "text/plain": [
       "array([[0, 0, 0, 0, 0, 0],\n",
       "       [1, 0, 0, 0, 0, 0],\n",
       "       [0, 2, 0, 0, 0, 0],\n",
       "       [0, 0, 3, 0, 0, 0],\n",
       "       [0, 0, 0, 4, 0, 0],\n",
       "       [0, 0, 0, 0, 5, 0]])"
      ]
     },
     "execution_count": 110,
     "metadata": {},
     "output_type": "execute_result"
    }
   ],
   "source": [
    "# diagonal np.diag\n",
    "x = np.array([[1,2,3],[4,5,6],[7,8,9]])\n",
    "print x\n",
    "np.diag(x,1)\n",
    "# Create a 5x5 matrix with values 1,2,3,4 just below the diagonal \n",
    "y = np.arange(5)\n",
    "print y\n",
    "np.diag(y+1,-1)"
   ]
  },
  {
   "cell_type": "code",
   "execution_count": 114,
   "metadata": {
    "collapsed": false
   },
   "outputs": [
    {
     "name": "stdout",
     "output_type": "stream",
     "text": [
      "[[ 0.  1.  0.  1.  0.  1.  0.  1.]\n",
      " [ 1.  0.  1.  0.  1.  0.  1.  0.]\n",
      " [ 0.  1.  0.  1.  0.  1.  0.  1.]\n",
      " [ 1.  0.  1.  0.  1.  0.  1.  0.]\n",
      " [ 0.  1.  0.  1.  0.  1.  0.  1.]\n",
      " [ 1.  0.  1.  0.  1.  0.  1.  0.]\n",
      " [ 0.  1.  0.  1.  0.  1.  0.  1.]\n",
      " [ 1.  0.  1.  0.  1.  0.  1.  0.]]\n"
     ]
    }
   ],
   "source": [
    "# create a checkerboard pattern in a 8x8 matrix\n",
    "x = np.zeros((8,8))\n",
    "x[::2,1::2] = 1\n",
    "x[1::2,::2] = 1\n",
    "print x"
   ]
  },
  {
   "cell_type": "code",
   "execution_count": 118,
   "metadata": {
    "collapsed": false
   },
   "outputs": [
    {
     "name": "stdout",
     "output_type": "stream",
     "text": [
      "after normalization, sum :  1.0\n"
     ]
    }
   ],
   "source": [
    "# Normalization\n",
    "x = np.random.random((5,5))\n",
    "x_norm =  x/(x.sum())\n",
    "print 'after normalization, sum : ', x_norm.sum()"
   ]
  },
  {
   "cell_type": "code",
   "execution_count": 120,
   "metadata": {
    "collapsed": false
   },
   "outputs": [
    {
     "name": "stdout",
     "output_type": "stream",
     "text": [
      "[[ 0.8124616   0.47108254]\n",
      " [ 0.2613689   0.14206686]\n",
      " [ 0.42128995  0.19423467]\n",
      " [ 0.84069103  0.48468538]\n",
      " [ 0.42905843  0.23228635]]\n"
     ]
    }
   ],
   "source": [
    "# Matrix multiplication\n",
    "#  5x3 . 3x2\n",
    "#  Use of dot(x,y)\n",
    "x = np.random.random((5,3))\n",
    "y = np.random.random((3,2))\n",
    "print np.dot(x,y)"
   ]
  },
  {
   "cell_type": "code",
   "execution_count": 123,
   "metadata": {
    "collapsed": false
   },
   "outputs": [
    {
     "name": "stdout",
     "output_type": "stream",
     "text": [
      "[[ 0.  1.  2.  3.  4.]\n",
      " [ 0.  1.  2.  3.  4.]\n",
      " [ 0.  1.  2.  3.  4.]\n",
      " [ 0.  1.  2.  3.  4.]\n",
      " [ 0.  1.  2.  3.  4.]]\n"
     ]
    }
   ],
   "source": [
    "# 5x5 matrix with row values ranging from 0 to 5\n",
    "z = np.zeros((5,5))\n",
    "print z + np.arange(0,5)"
   ]
  },
  {
   "cell_type": "code",
   "execution_count": 135,
   "metadata": {
    "collapsed": false
   },
   "outputs": [
    {
     "name": "stdout",
     "output_type": "stream",
     "text": [
      "[ 0.          0.09090909  0.18181818  0.27272727  0.36363636  0.45454545\n",
      "  0.54545455  0.63636364  0.72727273  0.81818182  0.90909091  1.        ]\n",
      "[ 0.09090909  0.18181818  0.27272727  0.36363636  0.45454545  0.54545455\n",
      "  0.63636364  0.72727273  0.81818182  0.90909091]\n"
     ]
    }
   ],
   "source": [
    "# a vector of size 10 with values ranging from  0 to 1\n",
    "x = np.random.random(10)\n",
    "x = x/x.sum()\n",
    "# print x\n",
    "\n",
    "# Suggested : Use of np.linspace() function\n",
    "print np.linspace(0,1,12)\n",
    "print np.linspace(0,1,12)[1:-1]"
   ]
  }
 ],
 "metadata": {
  "kernelspec": {
   "display_name": "Python 2",
   "language": "python",
   "name": "python2"
  },
  "language_info": {
   "codemirror_mode": {
    "name": "ipython",
    "version": 2
   },
   "file_extension": ".py",
   "mimetype": "text/x-python",
   "name": "python",
   "nbconvert_exporter": "python",
   "pygments_lexer": "ipython2",
   "version": "2.7.6"
  }
 },
 "nbformat": 4,
 "nbformat_minor": 0
}
