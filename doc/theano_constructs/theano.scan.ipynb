{
 "cells": [
  {
   "cell_type": "code",
   "execution_count": 2,
   "metadata": {
    "collapsed": true
   },
   "outputs": [],
   "source": [
    "import theano\n",
    "import theano.tensor as T\n",
    "import numpy as np"
   ]
  },
  {
   "cell_type": "code",
   "execution_count": 7,
   "metadata": {
    "collapsed": false
   },
   "outputs": [
    {
     "name": "stdout",
     "output_type": "stream",
     "text": [
      "256\n"
     ]
    }
   ],
   "source": [
    "# manual loop for calculating A^k\n",
    "output = 1\n",
    "k=8\n",
    "a=2\n",
    "for i in xrange(k):\n",
    "    output *= a\n",
    "print output"
   ]
  },
  {
   "cell_type": "code",
   "execution_count": 9,
   "metadata": {
    "collapsed": true
   },
   "outputs": [],
   "source": [
    "#### Mechanisms___________________________________________________\n",
    "### 1. Initial value assignment to output variable : output = 1 : __passed as outputs_info to scan__\n",
    "## 2. Accumulation of results in output variable : output *= a\n",
    "# 3. Unchanging variable : a : __passed as non-sequences to scan__\n",
    "####______________________________________________________________"
   ]
  },
  {
   "cell_type": "code",
   "execution_count": 16,
   "metadata": {
    "collapsed": false
   },
   "outputs": [],
   "source": [
    "k = T.iscalar('k')\n",
    "a = T.iscalar('a')\n",
    "# Symbolic expression of result/output\n",
    "output,updates = theano.scan(fn = lambda prior_result,a: prior_result*a,\n",
    "                             outputs_info = T.ones_like(a), non_sequences=a,n_steps=k)\n",
    "####_____________________________________________________________________\n",
    "# 1. construct a function : given (prior_result,a) calculates (prior * a)\n",
    "## 2. set inital assignment to output/result, of type a__________________\n",
    "### 3. final output is stored in the last element of output : output[-1]_\n",
    "####_____________________________________________________________________"
   ]
  },
  {
   "cell_type": "code",
   "execution_count": 17,
   "metadata": {
    "collapsed": true
   },
   "outputs": [],
   "source": [
    "power_fn = theano.function(inputs=[a,k],outputs = output[-1], updates=updates)"
   ]
  },
  {
   "cell_type": "code",
   "execution_count": 19,
   "metadata": {
    "collapsed": false
   },
   "outputs": [
    {
     "name": "stdout",
     "output_type": "stream",
     "text": [
      "256\n"
     ]
    }
   ],
   "source": [
    "print power_fn(2,8)"
   ]
  }
 ],
 "metadata": {
  "kernelspec": {
   "display_name": "Python 2",
   "language": "python",
   "name": "python2"
  },
  "language_info": {
   "codemirror_mode": {
    "name": "ipython",
    "version": 2
   },
   "file_extension": ".py",
   "mimetype": "text/x-python",
   "name": "python",
   "nbconvert_exporter": "python",
   "pygments_lexer": "ipython2",
   "version": "2.7.6"
  }
 },
 "nbformat": 4,
 "nbformat_minor": 0
}
